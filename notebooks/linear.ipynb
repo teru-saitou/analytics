{
  "cells": [
    {
      "cell_type": "code",
      "execution_count": null,
      "metadata": {
        "id": "ydqFaSOtnrLy"
      },
      "outputs": [],
      "source": [
        "import numpy as np\n",
        "import pandas as pd\n",
        "import seaborn as sns\n",
        "import matplotlib.pyplot as plt\n",
        "from sklearn.model_selection import train_test_split, GridSearchCV\n",
        "from sklearn.linear_model import SGDRegressor, LinearRegression\n",
        "from sklearn.metrics import mean_squared_error, r2_score, mean_absolute_error\n",
        "from sklearn.model_selection import KFold, StratifiedKFold, GridSearchCV\n",
        "from sklearn import preprocessing\n",
        "import warnings\n",
        "import lightgbm as lgb"
      ]
    },
    {
      "cell_type": "code",
      "execution_count": null,
      "metadata": {
        "id": "rP_XPTJynrIT"
      },
      "outputs": [],
      "source": [
        "df = pd.read_csv(\"mid.csv\",encoding ='UTF-8')"
      ]
    },
    {
      "cell_type": "code",
      "source": [
        "df = df.drop([\"種類\", \"都道府県名\"], axis=1)"
      ],
      "metadata": {
        "id": "LDQrq_Ff0Wmv"
      },
      "execution_count": null,
      "outputs": []
    },
    {
      "cell_type": "code",
      "source": [
        "df[\"今後の利用目的\"].value_counts()"
      ],
      "metadata": {
        "colab": {
          "base_uri": "https://localhost:8080/"
        },
        "id": "JGhx3i1PgP89",
        "outputId": "87e10ca7-5913-45f2-ddd6-0fc3c4e01add"
      },
      "execution_count": null,
      "outputs": [
        {
          "output_type": "execute_result",
          "data": {
            "text/plain": [
              "住宅     41803\n",
              "その他     2106\n",
              "事務所      673\n",
              "店舗       220\n",
              "Name: 今後の利用目的, dtype: int64"
            ]
          },
          "metadata": {},
          "execution_count": 5
        }
      ]
    },
    {
      "cell_type": "code",
      "source": [
        "df[\"取引の事情等\"].value_counts()"
      ],
      "metadata": {
        "colab": {
          "base_uri": "https://localhost:8080/"
        },
        "id": "suBmVwYUgSei",
        "outputId": "515df14b-ca13-43e1-f994-9e662d92b3aa"
      },
      "execution_count": null,
      "outputs": [
        {
          "output_type": "execute_result",
          "data": {
            "text/plain": [
              "調停・競売等             1608\n",
              "関係者間取引              155\n",
              "瑕疵有りの可能性             12\n",
              "その他事情有り               8\n",
              "他の権利・負担付き             5\n",
              "関係者間取引、調停・競売等         1\n",
              "関係者間取引、瑕疵有りの可能性       1\n",
              "Name: 取引の事情等, dtype: int64"
            ]
          },
          "metadata": {},
          "execution_count": 6
        }
      ]
    },
    {
      "cell_type": "code",
      "source": [
        "df = df.drop([\"今後の利用目的\", \"取引の事情等\"], axis=1)"
      ],
      "metadata": {
        "id": "Hls2QnglgOGl"
      },
      "execution_count": null,
      "outputs": []
    },
    {
      "cell_type": "code",
      "source": [
        "pip install featuretools"
      ],
      "metadata": {
        "colab": {
          "base_uri": "https://localhost:8080/",
          "height": 1000
        },
        "id": "A6q2Vr-8gOEO",
        "outputId": "fd68f61e-0718-41f4-c742-67f82e63e2ef"
      },
      "execution_count": null,
      "outputs": [
        {
          "output_type": "stream",
          "name": "stdout",
          "text": [
            "Looking in indexes: https://pypi.org/simple, https://us-python.pkg.dev/colab-wheels/public/simple/\n",
            "Collecting featuretools\n",
            "  Downloading featuretools-1.23.0-py3-none-any.whl (555 kB)\n",
            "\u001b[2K     \u001b[90m━━━━━━━━━━━━━━━━━━━━━━━━━━━━━━━━━━━━━━\u001b[0m \u001b[32m555.7/555.7 KB\u001b[0m \u001b[31m10.2 MB/s\u001b[0m eta \u001b[36m0:00:00\u001b[0m\n",
            "\u001b[?25hRequirement already satisfied: numpy>=1.21.0 in /usr/local/lib/python3.8/dist-packages (from featuretools) (1.22.4)\n",
            "Requirement already satisfied: holidays>=0.13 in /usr/local/lib/python3.8/dist-packages (from featuretools) (0.20)\n",
            "Requirement already satisfied: distributed!=2022.10.1,>=2022.2.0 in /usr/local/lib/python3.8/dist-packages (from featuretools) (2022.2.1)\n",
            "Collecting psutil>=5.6.6\n",
            "  Downloading psutil-5.9.4-cp36-abi3-manylinux_2_12_x86_64.manylinux2010_x86_64.manylinux_2_17_x86_64.manylinux2014_x86_64.whl (280 kB)\n",
            "\u001b[2K     \u001b[90m━━━━━━━━━━━━━━━━━━━━━━━━━━━━━━━━━━━━━━\u001b[0m \u001b[32m280.2/280.2 KB\u001b[0m \u001b[31m10.0 MB/s\u001b[0m eta \u001b[36m0:00:00\u001b[0m\n",
            "\u001b[?25hRequirement already satisfied: cloudpickle>=1.5.0 in /usr/local/lib/python3.8/dist-packages (from featuretools) (2.2.1)\n",
            "Requirement already satisfied: dask[dataframe]!=2022.10.1,>=2022.2.0 in /usr/local/lib/python3.8/dist-packages (from featuretools) (2022.2.1)\n",
            "Collecting woodwork[dask]>=0.18.0\n",
            "  Downloading woodwork-0.21.2-py3-none-any.whl (230 kB)\n",
            "\u001b[2K     \u001b[90m━━━━━━━━━━━━━━━━━━━━━━━━━━━━━━━━━━━━━━\u001b[0m \u001b[32m230.7/230.7 KB\u001b[0m \u001b[31m15.8 MB/s\u001b[0m eta \u001b[36m0:00:00\u001b[0m\n",
            "\u001b[?25hCollecting pandas>=1.4.0\n",
            "  Downloading pandas-1.5.3-cp38-cp38-manylinux_2_17_x86_64.manylinux2014_x86_64.whl (12.2 MB)\n",
            "\u001b[2K     \u001b[90m━━━━━━━━━━━━━━━━━━━━━━━━━━━━━━━━━━━━━━━━\u001b[0m \u001b[32m12.2/12.2 MB\u001b[0m \u001b[31m16.9 MB/s\u001b[0m eta \u001b[36m0:00:00\u001b[0m\n",
            "\u001b[?25hRequirement already satisfied: packaging>=20.0 in /usr/local/lib/python3.8/dist-packages (from featuretools) (23.0)\n",
            "Requirement already satisfied: scipy>=1.4.0 in /usr/local/lib/python3.8/dist-packages (from featuretools) (1.10.1)\n",
            "Requirement already satisfied: tqdm>=4.32.0 in /usr/local/lib/python3.8/dist-packages (from featuretools) (4.64.1)\n",
            "Requirement already satisfied: toolz>=0.8.2 in /usr/local/lib/python3.8/dist-packages (from dask[dataframe]!=2022.10.1,>=2022.2.0->featuretools) (0.12.0)\n",
            "Requirement already satisfied: pyyaml>=5.3.1 in /usr/local/lib/python3.8/dist-packages (from dask[dataframe]!=2022.10.1,>=2022.2.0->featuretools) (6.0)\n",
            "Requirement already satisfied: partd>=0.3.10 in /usr/local/lib/python3.8/dist-packages (from dask[dataframe]!=2022.10.1,>=2022.2.0->featuretools) (1.3.0)\n",
            "Requirement already satisfied: fsspec>=0.6.0 in /usr/local/lib/python3.8/dist-packages (from dask[dataframe]!=2022.10.1,>=2022.2.0->featuretools) (2023.1.0)\n",
            "Requirement already satisfied: jinja2 in /usr/local/lib/python3.8/dist-packages (from distributed!=2022.10.1,>=2022.2.0->featuretools) (3.1.2)\n",
            "Requirement already satisfied: tornado>=6.0.3 in /usr/local/lib/python3.8/dist-packages (from distributed!=2022.10.1,>=2022.2.0->featuretools) (6.2)\n",
            "Requirement already satisfied: zict>=0.1.3 in /usr/local/lib/python3.8/dist-packages (from distributed!=2022.10.1,>=2022.2.0->featuretools) (2.2.0)\n",
            "Requirement already satisfied: setuptools in /usr/local/lib/python3.8/dist-packages (from distributed!=2022.10.1,>=2022.2.0->featuretools) (57.4.0)\n",
            "Requirement already satisfied: click>=6.6 in /usr/local/lib/python3.8/dist-packages (from distributed!=2022.10.1,>=2022.2.0->featuretools) (8.1.3)\n",
            "Requirement already satisfied: msgpack>=0.6.0 in /usr/local/lib/python3.8/dist-packages (from distributed!=2022.10.1,>=2022.2.0->featuretools) (1.0.4)\n",
            "Requirement already satisfied: tblib>=1.6.0 in /usr/local/lib/python3.8/dist-packages (from distributed!=2022.10.1,>=2022.2.0->featuretools) (1.7.0)\n",
            "Requirement already satisfied: sortedcontainers!=2.0.0,!=2.0.1 in /usr/local/lib/python3.8/dist-packages (from distributed!=2022.10.1,>=2022.2.0->featuretools) (2.4.0)\n",
            "Requirement already satisfied: convertdate>=2.3.0 in /usr/local/lib/python3.8/dist-packages (from holidays>=0.13->featuretools) (2.4.0)\n",
            "Requirement already satisfied: korean-lunar-calendar in /usr/local/lib/python3.8/dist-packages (from holidays>=0.13->featuretools) (0.3.1)\n",
            "Requirement already satisfied: hijri-converter in /usr/local/lib/python3.8/dist-packages (from holidays>=0.13->featuretools) (2.2.4)\n",
            "Requirement already satisfied: PyMeeus in /usr/local/lib/python3.8/dist-packages (from holidays>=0.13->featuretools) (0.5.12)\n",
            "Requirement already satisfied: python-dateutil in /usr/local/lib/python3.8/dist-packages (from holidays>=0.13->featuretools) (2.8.2)\n",
            "Requirement already satisfied: pytz>=2020.1 in /usr/local/lib/python3.8/dist-packages (from pandas>=1.4.0->featuretools) (2022.7.1)\n",
            "Requirement already satisfied: importlib-resources>=5.10.0 in /usr/local/lib/python3.8/dist-packages (from woodwork[dask]>=0.18.0->featuretools) (5.12.0)\n",
            "Requirement already satisfied: scikit-learn>=0.22 in /usr/local/lib/python3.8/dist-packages (from woodwork[dask]>=0.18.0->featuretools) (1.2.1)\n",
            "Requirement already satisfied: zipp>=3.1.0 in /usr/local/lib/python3.8/dist-packages (from importlib-resources>=5.10.0->woodwork[dask]>=0.18.0->featuretools) (3.15.0)\n",
            "Requirement already satisfied: locket in /usr/local/lib/python3.8/dist-packages (from partd>=0.3.10->dask[dataframe]!=2022.10.1,>=2022.2.0->featuretools) (1.0.0)\n",
            "Requirement already satisfied: six>=1.5 in /usr/local/lib/python3.8/dist-packages (from python-dateutil->holidays>=0.13->featuretools) (1.15.0)\n",
            "Requirement already satisfied: joblib>=1.1.1 in /usr/local/lib/python3.8/dist-packages (from scikit-learn>=0.22->woodwork[dask]>=0.18.0->featuretools) (1.2.0)\n",
            "Requirement already satisfied: threadpoolctl>=2.0.0 in /usr/local/lib/python3.8/dist-packages (from scikit-learn>=0.22->woodwork[dask]>=0.18.0->featuretools) (3.1.0)\n",
            "Requirement already satisfied: heapdict in /usr/local/lib/python3.8/dist-packages (from zict>=0.1.3->distributed!=2022.10.1,>=2022.2.0->featuretools) (1.0.1)\n",
            "Requirement already satisfied: MarkupSafe>=2.0 in /usr/local/lib/python3.8/dist-packages (from jinja2->distributed!=2022.10.1,>=2022.2.0->featuretools) (2.1.2)\n",
            "Installing collected packages: psutil, pandas, woodwork, featuretools\n",
            "  Attempting uninstall: psutil\n",
            "    Found existing installation: psutil 5.4.8\n",
            "    Uninstalling psutil-5.4.8:\n",
            "      Successfully uninstalled psutil-5.4.8\n",
            "  Attempting uninstall: pandas\n",
            "    Found existing installation: pandas 1.3.5\n",
            "    Uninstalling pandas-1.3.5:\n",
            "      Successfully uninstalled pandas-1.3.5\n",
            "Successfully installed featuretools-1.23.0 pandas-1.5.3 psutil-5.9.4 woodwork-0.21.2\n"
          ]
        },
        {
          "output_type": "display_data",
          "data": {
            "application/vnd.colab-display-data+json": {
              "pip_warning": {
                "packages": [
                  "pandas",
                  "psutil"
                ]
              }
            }
          },
          "metadata": {}
        }
      ]
    },
    {
      "cell_type": "code",
      "source": [
        "import featuretools as ft"
      ],
      "metadata": {
        "id": "UNNkAhbfgOBP"
      },
      "execution_count": null,
      "outputs": []
    },
    {
      "cell_type": "code",
      "source": [
        "es = ft.EntitySet(id='example') \n",
        "\n",
        "es.add_dataframe(dataframe_name='locations', \n",
        "                         dataframe=df, \n",
        "                         index='name')  \n",
        "trans_primitives=['add_numeric', 'multiply_numeric']\n",
        "agg_primitives=[]\n",
        "\n",
        "feature_matrix, feature_defs = ft.dfs(entityset=es,\n",
        "                                      target_dataframe_name='locations',\n",
        "                                      trans_primitives=trans_primitives,\n",
        "                                      agg_primitives=agg_primitives,\n",
        "                                      max_depth=1)"
      ],
      "metadata": {
        "id": "o7ija1CGL2Kz",
        "colab": {
          "base_uri": "https://localhost:8080/"
        },
        "outputId": "9d5c622d-44a9-419a-ce9e-b6862e097553"
      },
      "execution_count": null,
      "outputs": [
        {
          "output_type": "stream",
          "name": "stderr",
          "text": [
            "/usr/local/lib/python3.8/dist-packages/featuretools/entityset/entityset.py:1906: UserWarning: index name not found in dataframe, creating new integer column\n",
            "  warnings.warn(\n"
          ]
        }
      ]
    },
    {
      "cell_type": "code",
      "source": [
        "feature_matrix.info()"
      ],
      "metadata": {
        "id": "w6TmHGg6RfNP",
        "colab": {
          "base_uri": "https://localhost:8080/"
        },
        "outputId": "7027959a-1ee7-49c8-95e5-3b3a08f90847"
      },
      "execution_count": null,
      "outputs": [
        {
          "output_type": "stream",
          "name": "stdout",
          "text": [
            "<class 'pandas.core.frame.DataFrame'>\n",
            "Int64Index: 86538 entries, 0 to 86537\n",
            "Data columns (total 57 columns):\n",
            " #   Column                Non-Null Count  Dtype   \n",
            "---  ------                --------------  -----   \n",
            " 0   市区町村名                 86538 non-null  category\n",
            " 1   地区名                   86535 non-null  category\n",
            " 2   最寄駅：名称                86393 non-null  category\n",
            " 3   最寄駅：距離（分）             84807 non-null  Int64   \n",
            " 4   取引価格（総額）              86538 non-null  int64   \n",
            " 5   間取り                   81421 non-null  category\n",
            " 6   面積（㎡）                 86538 non-null  float64 \n",
            " 7   建物の構造                 85427 non-null  category\n",
            " 8   用途                    78688 non-null  category\n",
            " 9   都市計画                  85829 non-null  category\n",
            " 10  建ぺい率（％）               85367 non-null  Int64   \n",
            " 11  容積率（％）                85367 non-null  Int64   \n",
            " 12  取引時点                  86538 non-null  float64 \n",
            " 13  改装                    75347 non-null  category\n",
            " 14  築年数                   85649 non-null  Int64   \n",
            " 15  取引価格（総額） + 取引時点       86538 non-null  float64 \n",
            " 16  取引価格（総額） + 容積率（％）     85367 non-null  float64 \n",
            " 17  取引価格（総額） + 建ぺい率（％）    85367 non-null  float64 \n",
            " 18  取引価格（総額） + 最寄駅：距離（分）  84807 non-null  float64 \n",
            " 19  取引価格（総額） + 築年数        85649 non-null  float64 \n",
            " 20  取引価格（総額） + 面積（㎡）      86538 non-null  float64 \n",
            " 21  取引時点 + 容積率（％）         85367 non-null  float64 \n",
            " 22  取引時点 + 建ぺい率（％）        85367 non-null  float64 \n",
            " 23  取引時点 + 最寄駅：距離（分）      84807 non-null  float64 \n",
            " 24  取引時点 + 築年数            85649 non-null  float64 \n",
            " 25  取引時点 + 面積（㎡）          86538 non-null  float64 \n",
            " 26  容積率（％） + 建ぺい率（％）      85367 non-null  float64 \n",
            " 27  容積率（％） + 最寄駅：距離（分）    84058 non-null  float64 \n",
            " 28  容積率（％） + 築年数          84628 non-null  float64 \n",
            " 29  容積率（％） + 面積（㎡）        85367 non-null  float64 \n",
            " 30  建ぺい率（％） + 最寄駅：距離（分）   84058 non-null  float64 \n",
            " 31  建ぺい率（％） + 築年数         84628 non-null  float64 \n",
            " 32  建ぺい率（％） + 面積（㎡）       85367 non-null  float64 \n",
            " 33  最寄駅：距離（分） + 築年数       84015 non-null  float64 \n",
            " 34  最寄駅：距離（分） + 面積（㎡）     84807 non-null  float64 \n",
            " 35  築年数 + 面積（㎡）           85649 non-null  float64 \n",
            " 36  取引価格（総額） * 取引時点       86538 non-null  float64 \n",
            " 37  取引価格（総額） * 容積率（％）     85367 non-null  float64 \n",
            " 38  取引価格（総額） * 建ぺい率（％）    85367 non-null  float64 \n",
            " 39  取引価格（総額） * 最寄駅：距離（分）  84807 non-null  float64 \n",
            " 40  取引価格（総額） * 築年数        85649 non-null  float64 \n",
            " 41  取引価格（総額） * 面積（㎡）      86538 non-null  float64 \n",
            " 42  取引時点 * 容積率（％）         85367 non-null  float64 \n",
            " 43  取引時点 * 建ぺい率（％）        85367 non-null  float64 \n",
            " 44  取引時点 * 最寄駅：距離（分）      84807 non-null  float64 \n",
            " 45  取引時点 * 築年数            85649 non-null  float64 \n",
            " 46  取引時点 * 面積（㎡）          86538 non-null  float64 \n",
            " 47  容積率（％） * 建ぺい率（％）      85367 non-null  float64 \n",
            " 48  容積率（％） * 最寄駅：距離（分）    84058 non-null  float64 \n",
            " 49  容積率（％） * 築年数          84628 non-null  float64 \n",
            " 50  容積率（％） * 面積（㎡）        85367 non-null  float64 \n",
            " 51  建ぺい率（％） * 最寄駅：距離（分）   84058 non-null  float64 \n",
            " 52  建ぺい率（％） * 築年数         84628 non-null  float64 \n",
            " 53  建ぺい率（％） * 面積（㎡）       85367 non-null  float64 \n",
            " 54  最寄駅：距離（分） * 築年数       84015 non-null  float64 \n",
            " 55  最寄駅：距離（分） * 面積（㎡）     84807 non-null  float64 \n",
            " 56  築年数 * 面積（㎡）           85649 non-null  float64 \n",
            "dtypes: Int64(4), category(8), float64(44), int64(1)\n",
            "memory usage: 34.2 MB\n"
          ]
        }
      ]
    },
    {
      "cell_type": "code",
      "source": [
        "feature_matrix.shape"
      ],
      "metadata": {
        "colab": {
          "base_uri": "https://localhost:8080/"
        },
        "id": "AleBYHqUDog8",
        "outputId": "99eaa0c7-b341-4e7f-8fa9-c4086aba87e8"
      },
      "execution_count": null,
      "outputs": [
        {
          "output_type": "execute_result",
          "data": {
            "text/plain": [
              "(86538, 57)"
            ]
          },
          "metadata": {},
          "execution_count": 12
        }
      ]
    },
    {
      "cell_type": "code",
      "source": [
        "feature_matrix = feature_matrix.drop([\"取引価格（総額） + 取引時点\",\n",
        "                                      \"取引価格（総額） + 容積率（％）\",\n",
        "                                      \"取引価格（総額） + 建ぺい率（％）\",\n",
        "                                      \"取引価格（総額） + 最寄駅：距離（分）\",\n",
        "                                      \"取引価格（総額） + 築年数\",\n",
        "                                      \"取引価格（総額） + 面積（㎡）\",       \n",
        "                                      \"取引価格（総額） * 取引時点\",\n",
        "                                      \"取引価格（総額） * 容積率（％）\",\n",
        "                                      \"取引価格（総額） * 建ぺい率（％）\",\n",
        "                                      \"取引価格（総額） * 最寄駅：距離（分）\",\n",
        "                                      \"取引価格（総額） * 築年数\",\n",
        "                                      \"取引価格（総額） * 面積（㎡）\"], axis=1)\n"
      ],
      "metadata": {
        "id": "6or9ACnWL07B"
      },
      "execution_count": null,
      "outputs": []
    },
    {
      "cell_type": "code",
      "source": [
        "feature_matrix.isnull().sum()"
      ],
      "metadata": {
        "colab": {
          "base_uri": "https://localhost:8080/"
        },
        "id": "BornQcIZhUMq",
        "outputId": "0c94bacd-1ae2-4c96-b8fc-69b56c3c2489"
      },
      "execution_count": null,
      "outputs": [
        {
          "output_type": "execute_result",
          "data": {
            "text/plain": [
              "市区町村名                      0\n",
              "地区名                        3\n",
              "最寄駅：名称                   145\n",
              "最寄駅：距離（分）               1731\n",
              "取引価格（総額）                   0\n",
              "間取り                     5117\n",
              "面積（㎡）                      0\n",
              "建物の構造                   1111\n",
              "用途                      7850\n",
              "都市計画                     709\n",
              "建ぺい率（％）                 1171\n",
              "容積率（％）                  1171\n",
              "取引時点                       0\n",
              "改装                     11191\n",
              "築年数                      889\n",
              "取引時点 + 容積率（％）           1171\n",
              "取引時点 + 建ぺい率（％）          1171\n",
              "取引時点 + 最寄駅：距離（分）        1731\n",
              "取引時点 + 築年数               889\n",
              "取引時点 + 面積（㎡）               0\n",
              "容積率（％） + 建ぺい率（％）        1171\n",
              "容積率（％） + 最寄駅：距離（分）      2480\n",
              "容積率（％） + 築年数            1910\n",
              "容積率（％） + 面積（㎡）          1171\n",
              "建ぺい率（％） + 最寄駅：距離（分）     2480\n",
              "建ぺい率（％） + 築年数           1910\n",
              "建ぺい率（％） + 面積（㎡）         1171\n",
              "最寄駅：距離（分） + 築年数         2523\n",
              "最寄駅：距離（分） + 面積（㎡）       1731\n",
              "築年数 + 面積（㎡）              889\n",
              "取引時点 * 容積率（％）           1171\n",
              "取引時点 * 建ぺい率（％）          1171\n",
              "取引時点 * 最寄駅：距離（分）        1731\n",
              "取引時点 * 築年数               889\n",
              "取引時点 * 面積（㎡）               0\n",
              "容積率（％） * 建ぺい率（％）        1171\n",
              "容積率（％） * 最寄駅：距離（分）      2480\n",
              "容積率（％） * 築年数            1910\n",
              "容積率（％） * 面積（㎡）          1171\n",
              "建ぺい率（％） * 最寄駅：距離（分）     2480\n",
              "建ぺい率（％） * 築年数           1910\n",
              "建ぺい率（％） * 面積（㎡）         1171\n",
              "最寄駅：距離（分） * 築年数         2523\n",
              "最寄駅：距離（分） * 面積（㎡）       1731\n",
              "築年数 * 面積（㎡）              889\n",
              "dtype: int64"
            ]
          },
          "metadata": {},
          "execution_count": 14
        }
      ]
    },
    {
      "cell_type": "code",
      "source": [
        "feature_matrix = feature_matrix.dropna()\n",
        "feature_matrix.isnull().sum()"
      ],
      "metadata": {
        "colab": {
          "base_uri": "https://localhost:8080/"
        },
        "id": "4gULiHzNP7Ji",
        "outputId": "09809e08-e7d2-4efa-d14c-1263585d4e79"
      },
      "execution_count": null,
      "outputs": [
        {
          "output_type": "execute_result",
          "data": {
            "text/plain": [
              "市区町村名                  0\n",
              "地区名                    0\n",
              "最寄駅：名称                 0\n",
              "最寄駅：距離（分）              0\n",
              "取引価格（総額）               0\n",
              "間取り                    0\n",
              "面積（㎡）                  0\n",
              "建物の構造                  0\n",
              "用途                     0\n",
              "都市計画                   0\n",
              "建ぺい率（％）                0\n",
              "容積率（％）                 0\n",
              "取引時点                   0\n",
              "改装                     0\n",
              "築年数                    0\n",
              "取引時点 + 容積率（％）          0\n",
              "取引時点 + 建ぺい率（％）         0\n",
              "取引時点 + 最寄駅：距離（分）       0\n",
              "取引時点 + 築年数             0\n",
              "取引時点 + 面積（㎡）           0\n",
              "容積率（％） + 建ぺい率（％）       0\n",
              "容積率（％） + 最寄駅：距離（分）     0\n",
              "容積率（％） + 築年数           0\n",
              "容積率（％） + 面積（㎡）         0\n",
              "建ぺい率（％） + 最寄駅：距離（分）    0\n",
              "建ぺい率（％） + 築年数          0\n",
              "建ぺい率（％） + 面積（㎡）        0\n",
              "最寄駅：距離（分） + 築年数        0\n",
              "最寄駅：距離（分） + 面積（㎡）      0\n",
              "築年数 + 面積（㎡）            0\n",
              "取引時点 * 容積率（％）          0\n",
              "取引時点 * 建ぺい率（％）         0\n",
              "取引時点 * 最寄駅：距離（分）       0\n",
              "取引時点 * 築年数             0\n",
              "取引時点 * 面積（㎡）           0\n",
              "容積率（％） * 建ぺい率（％）       0\n",
              "容積率（％） * 最寄駅：距離（分）     0\n",
              "容積率（％） * 築年数           0\n",
              "容積率（％） * 面積（㎡）         0\n",
              "建ぺい率（％） * 最寄駅：距離（分）    0\n",
              "建ぺい率（％） * 築年数          0\n",
              "建ぺい率（％） * 面積（㎡）        0\n",
              "最寄駅：距離（分） * 築年数        0\n",
              "最寄駅：距離（分） * 面積（㎡）      0\n",
              "築年数 * 面積（㎡）            0\n",
              "dtype: int64"
            ]
          },
          "metadata": {},
          "execution_count": 15
        }
      ]
    },
    {
      "cell_type": "code",
      "source": [
        "feature_matrix.shape"
      ],
      "metadata": {
        "colab": {
          "base_uri": "https://localhost:8080/"
        },
        "id": "f1AYc2qgh4FH",
        "outputId": "f107a604-e1c0-462f-beba-0bfddb88c6ba"
      },
      "execution_count": null,
      "outputs": [
        {
          "output_type": "execute_result",
          "data": {
            "text/plain": [
              "(65370, 45)"
            ]
          },
          "metadata": {},
          "execution_count": 16
        }
      ]
    },
    {
      "cell_type": "code",
      "source": [
        "def data_preprocess(df):\n",
        "  cat_fetures = [\"市区町村名\", \"地区名\", \"最寄駅：名称\", \"間取り\", \"建物の構造\", \"用途\", \"都市計画\", \"改装\"]\n",
        "  for col in cat_fetures:\n",
        "    lbl = preprocessing.LabelEncoder()\n",
        "    lbl.fit(df[col])\n",
        "    lbl.transform(df[col])\n",
        "    df[col] = lbl.transform(df[col])\n",
        "  return df\n",
        "\n",
        "feature_matrix =data_preprocess(feature_matrix)"
      ],
      "metadata": {
        "id": "XByoGZfVX4f0"
      },
      "execution_count": null,
      "outputs": []
    },
    {
      "cell_type": "code",
      "source": [
        "X = feature_matrix.drop(\"取引価格（総額）\", axis=1)\n",
        "y = feature_matrix[\"取引価格（総額）\"]"
      ],
      "metadata": {
        "id": "w5EUCfdfhLsW"
      },
      "execution_count": null,
      "outputs": []
    },
    {
      "cell_type": "code",
      "source": [
        "X_train, X_test, y_train, y_test = train_test_split(X, y, test_size=0.3, random_state=0)"
      ],
      "metadata": {
        "id": "-zqWN3d1FLvP"
      },
      "execution_count": null,
      "outputs": []
    },
    {
      "cell_type": "code",
      "source": [
        "model = LinearRegression() \n",
        "model.fit(X_train, y_train)             \n",
        "y_pred = model.predict(X_test)                                   "
      ],
      "metadata": {
        "id": "WyV-a6kqXbF1"
      },
      "execution_count": null,
      "outputs": []
    },
    {
      "cell_type": "code",
      "source": [
        "print(\"平均二乗誤差 (MSE): \", mean_squared_error(y_test, y_pred)) \n",
        "print(\"二乗平均平方根誤差(RMSE): \", mean_squared_error(y_test, y_pred, squared=False)) \n",
        "print(\"平均絶対誤差 (MAE): \", mean_absolute_error(y_test, y_pred)) \n",
        "print(\"決定係数(R2): \", r2_score(y_test, y_pred)) \n",
        "print(\"平均絶対誤差率(MAPE): \", np.mean(np.abs((y_pred - y_test) / y_test)) * 100) "
      ],
      "metadata": {
        "colab": {
          "base_uri": "https://localhost:8080/"
        },
        "id": "zS3ETn9LY49k",
        "outputId": "00d7322e-ccfa-48ac-d80e-0c6ae4cb831f"
      },
      "execution_count": null,
      "outputs": [
        {
          "output_type": "stream",
          "name": "stdout",
          "text": [
            "平均二乗誤差 (MSE):  30523098029306.727\n",
            "二乗平均平方根誤差(RMSE):  5524771.310136441\n",
            "平均絶対誤差 (MAE):  4217789.222480547\n",
            "決定係数(R2):  0.6646073829056789\n",
            "平均絶対誤差率(MAPE):  172.27180488953232\n"
          ]
        }
      ]
    },
    {
      "cell_type": "code",
      "source": [
        "print(\"学習データに対する決定係数(R2): \", model.score(X_train ,y_train)) \n",
        "print(\"学習データに対する決定係数(R2): \", model.score(X_test, y_test)) "
      ],
      "metadata": {
        "colab": {
          "base_uri": "https://localhost:8080/"
        },
        "id": "_2rDSt-1Ljm7",
        "outputId": "ca5172d1-849a-4975-d786-cc0ea3118e16"
      },
      "execution_count": null,
      "outputs": [
        {
          "output_type": "stream",
          "name": "stdout",
          "text": [
            "学習データに対する決定係数(R2):  0.6498311050316787\n",
            "学習データに対する決定係数(R2):  0.6646073829056789\n"
          ]
        }
      ]
    },
    {
      "cell_type": "code",
      "source": [
        "plot_data = pd.DataFrame()\n",
        "plot_data['observed'] = y_test[:]\n",
        "plot_data['predict'] = y_pred[:]\n",
        "plt.figure(figsize=(10,10))\n",
        "sns.jointplot(x='observed', y='predict', data=plot_data, kind='reg')\n",
        "plt.show()"
      ],
      "metadata": {
        "id": "nMSIXdLfbNes",
        "colab": {
          "base_uri": "https://localhost:8080/",
          "height": 459
        },
        "outputId": "9735fb9a-b64d-48ff-bd2b-14117ff8b7f0"
      },
      "execution_count": null,
      "outputs": [
        {
          "output_type": "display_data",
          "data": {
            "text/plain": [
              "<Figure size 720x720 with 0 Axes>"
            ]
          },
          "metadata": {}
        },
        {
          "output_type": "display_data",
          "data": {
            "text/plain": [
              "<Figure size 432x432 with 3 Axes>"
            ],
            "image/png": "[encoded data removed]"
          },
          "metadata": {
            "needs_background": "light"
          }
        }
      ]
    },
    {
      "cell_type": "code",
      "execution_count": null,
      "metadata": {
        "id": "rQDjIqNKNJFY",
        "colab": {
          "base_uri": "https://localhost:8080/",
          "height": 345
        },
        "outputId": "2b4f40e9-0622-42a3-afb8-21b98ef4777c"
      },
      "outputs": [
        {
          "output_type": "display_data",
          "data": {
            "text/plain": [
              "<Figure size 360x360 with 1 Axes>"
            ],
            "image/png": "[encoded data removed]"
          },
          "metadata": {
            "needs_background": "light"
          }
        }
      ],
      "source": [
        "plt.figure(figsize=(5, 5)) \n",
        "plt.plot([0,y_test.max()], [0,y_test.max()], label=\"y=x\", color=\"black\")\n",
        "plt.scatter(y_pred, y_test)\n",
        "plt.legend()\n",
        "plt.xlim(0, y_test.max())\n",
        "plt.ylim(0, y_test.max())\n",
        "plt.xlabel(\"predict\")\n",
        "plt.ylabel(\"true\")\n",
        "plt.show()"
      ]
    },
    {
      "cell_type": "code",
      "source": [
        "plt.hist(y_test, bins=100, alpha=0.5, label=\"test\")\n",
        "plt.hist(y_pred, bins=100, alpha=0.5, label=\"predict\")\n",
        "plt.legend()\n",
        "plt.show()"
      ],
      "metadata": {
        "id": "2TssvVDpat_P",
        "outputId": "7dd1e579-9b66-4524-f35c-a65d6fe448dc",
        "colab": {
          "base_uri": "https://localhost:8080/",
          "height": 278
        }
      },
      "execution_count": null,
      "outputs": [
        {
          "output_type": "display_data",
          "data": {
            "text/plain": [
              "<Figure size 432x288 with 1 Axes>"
            ],
            "image/png": "[encoded data removed]"
          },
          "metadata": {
            "needs_background": "light"
          }
        }
      ]
    }
  ],
  "metadata": {
    "colab": {
      "provenance": []
    },
    "kernelspec": {
      "display_name": "Python 3",
      "name": "python3"
    },
    "language_info": {
      "name": "python"
    }
  },
  "nbformat": 4,
  "nbformat_minor": 0
}