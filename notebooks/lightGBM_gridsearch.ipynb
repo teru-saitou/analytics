{
  "cells": [
    {
      "cell_type": "code",
      "execution_count": null,
      "metadata": {
        "id": "ydqFaSOtnrLy"
      },
      "outputs": [],
      "source": [
        "import numpy as np\n",
        "import pandas as pd\n",
        "import seaborn as sns\n",
        "import matplotlib.pyplot as plt\n",
        "from sklearn.model_selection import train_test_split, GridSearchCV\n",
        "from sklearn.linear_model import SGDRegressor, LinearRegression\n",
        "from sklearn.metrics import mean_squared_error, r2_score, mean_absolute_error\n",
        "from sklearn.model_selection import KFold, StratifiedKFold, GridSearchCV, cross_val_score\n",
        "from sklearn import preprocessing\n",
        "import warnings\n",
        "import lightgbm as lgb"
      ]
    },
    {
      "cell_type": "code",
      "execution_count": null,
      "metadata": {
        "id": "0Q_jMaxBrqPD",
        "colab": {
          "base_uri": "https://localhost:8080/"
        },
        "outputId": "98167d75-f836-4627-fd0b-4600af3980fc"
      },
      "outputs": [
        {
          "output_type": "stream",
          "name": "stdout",
          "text": [
            "Looking in indexes: https://pypi.org/simple, https://us-python.pkg.dev/colab-wheels/public/simple/\n",
            "Requirement already satisfied: japanize-matplotlib in /usr/local/lib/python3.8/dist-packages (1.1.3)\n",
            "Requirement already satisfied: matplotlib in /usr/local/lib/python3.8/dist-packages (from japanize-matplotlib) (3.5.3)\n",
            "Requirement already satisfied: numpy>=1.17 in /usr/local/lib/python3.8/dist-packages (from matplotlib->japanize-matplotlib) (1.22.4)\n",
            "Requirement already satisfied: fonttools>=4.22.0 in /usr/local/lib/python3.8/dist-packages (from matplotlib->japanize-matplotlib) (4.38.0)\n",
            "Requirement already satisfied: packaging>=20.0 in /usr/local/lib/python3.8/dist-packages (from matplotlib->japanize-matplotlib) (23.0)\n",
            "Requirement already satisfied: cycler>=0.10 in /usr/local/lib/python3.8/dist-packages (from matplotlib->japanize-matplotlib) (0.11.0)\n",
            "Requirement already satisfied: pyparsing>=2.2.1 in /usr/local/lib/python3.8/dist-packages (from matplotlib->japanize-matplotlib) (3.0.9)\n",
            "Requirement already satisfied: python-dateutil>=2.7 in /usr/local/lib/python3.8/dist-packages (from matplotlib->japanize-matplotlib) (2.8.2)\n",
            "Requirement already satisfied: kiwisolver>=1.0.1 in /usr/local/lib/python3.8/dist-packages (from matplotlib->japanize-matplotlib) (1.4.4)\n",
            "Requirement already satisfied: pillow>=6.2.0 in /usr/local/lib/python3.8/dist-packages (from matplotlib->japanize-matplotlib) (8.4.0)\n",
            "Requirement already satisfied: six>=1.5 in /usr/local/lib/python3.8/dist-packages (from python-dateutil>=2.7->matplotlib->japanize-matplotlib) (1.15.0)\n"
          ]
        }
      ],
      "source": [
        "pip install japanize-matplotlib"
      ]
    },
    {
      "cell_type": "code",
      "execution_count": null,
      "metadata": {
        "id": "yq-KWyPFrom8"
      },
      "outputs": [],
      "source": [
        "import japanize_matplotlib"
      ]
    },
    {
      "cell_type": "code",
      "execution_count": null,
      "metadata": {
        "id": "rP_XPTJynrIT"
      },
      "outputs": [],
      "source": [
        "df = pd.read_csv(\"mid.csv\",encoding ='UTF-8')"
      ]
    },
    {
      "cell_type": "code",
      "execution_count": null,
      "metadata": {
        "id": "OGjSNriEgji7"
      },
      "outputs": [],
      "source": [
        "df = df.drop([\"種類\",\"都道府県名\"], axis=1)"
      ]
    },
    {
      "cell_type": "code",
      "source": [
        "df = df.drop([\"今後の利用目的\", \"取引の事情等\"], axis=1)"
      ],
      "metadata": {
        "id": "WmPlFMWQAh6Q"
      },
      "execution_count": null,
      "outputs": []
    },
    {
      "cell_type": "code",
      "execution_count": null,
      "metadata": {
        "id": "ABg6-tlypDT3"
      },
      "outputs": [],
      "source": [
        "def data_preprocess(df):\n",
        "  cat_fetures = [\"市区町村名\", \"地区名\", \"最寄駅：名称\", \"間取り\", \"建物の構造\", \"用途\", \"都市計画\", \"改装\"]\n",
        "  for col in cat_fetures:\n",
        "    lbl = preprocessing.LabelEncoder()\n",
        "    lbl.fit(df[col])\n",
        "    lbl.transform(df[col])\n",
        "    df[col] = lbl.transform(df[col])\n",
        "  return df\n",
        "\n",
        "df =data_preprocess(df)"
      ]
    },
    {
      "cell_type": "code",
      "execution_count": null,
      "metadata": {
        "id": "zwopW9EqcbHc"
      },
      "outputs": [],
      "source": [
        "X = df.drop([\"取引価格（総額）\"], axis=1)\n",
        "y = df[\"取引価格（総額）\"]"
      ]
    },
    {
      "cell_type": "code",
      "source": [
        "X.shape"
      ],
      "metadata": {
        "id": "6FwZBWtLlBt-",
        "colab": {
          "base_uri": "https://localhost:8080/"
        },
        "outputId": "a58d12ca-cb7a-4a8a-d4aa-6c70352c438f"
      },
      "execution_count": null,
      "outputs": [
        {
          "output_type": "execute_result",
          "data": {
            "text/plain": [
              "(86538, 14)"
            ]
          },
          "metadata": {},
          "execution_count": 36
        }
      ]
    },
    {
      "cell_type": "code",
      "source": [
        "X_train, X_test, y_train, y_test = train_test_split(X, y, test_size=0.3, random_state=0)   \n",
        "\n",
        "model = lgb.LGBMRegressor(\n",
        "    objective='regression',\n",
        "    n_estimators=1000,\n",
        "    )\n",
        "    \n",
        "params = {\n",
        "    'num_leaves' : [10, 100],\n",
        "    'learning_rate' : [0.001, 0.01, 0.1],\n",
        "    'max_depth' : [7, 127,  511],\n",
        "    }\n",
        "skf_val = StratifiedKFold(n_splits=3) \n",
        "\n",
        "print('innerCV START')\n",
        "gscv = GridSearchCV(model, params, cv=skf_val, verbose=2, scoring='r2')\n",
        "gscv.fit(X_train, y_train, verbose= 1) \n",
        "print('IinnerCV best params',gscv.best_params_)\n",
        "    \n",
        "print('outerCV START')\n",
        "\n",
        "skf = StratifiedKFold(n_splits=5) \n",
        "scores = cross_val_score(gscv, X, y, cv=skf)\n",
        "print(scores)\n",
        "scores_nested_cv = scores.mean()\n",
        "print(scores_nested_cv)"
      ],
      "metadata": {
        "id": "M2EwPjebhfQL",
        "colab": {
          "base_uri": "https://localhost:8080/"
        },
        "outputId": "402e9652-42a8-40af-dbc3-d411415d4419"
      },
      "execution_count": null,
      "outputs": [
        {
          "output_type": "stream",
          "name": "stdout",
          "text": [
            "innerCV START\n",
            "Fitting 3 folds for each of 18 candidates, totalling 54 fits\n"
          ]
        },
        {
          "output_type": "stream",
          "name": "stderr",
          "text": [
            "/usr/local/lib/python3.8/dist-packages/sklearn/model_selection/_split.py:700: UserWarning: The least populated class in y has only 1 members, which is less than n_splits=3.\n",
            "  warnings.warn(\n"
          ]
        },
        {
          "output_type": "stream",
          "name": "stdout",
          "text": [
            "[CV] END ....learning_rate=0.001, max_depth=7, num_leaves=10; total time=   3.9s\n",
            "[CV] END ....learning_rate=0.001, max_depth=7, num_leaves=10; total time=  26.7s\n",
            "[CV] END ....learning_rate=0.001, max_depth=7, num_leaves=10; total time=   3.2s\n",
            "[CV] END ...learning_rate=0.001, max_depth=7, num_leaves=100; total time=   8.8s\n",
            "[CV] END ...learning_rate=0.001, max_depth=7, num_leaves=100; total time=   7.0s\n",
            "[CV] END ...learning_rate=0.001, max_depth=7, num_leaves=100; total time=   8.7s\n",
            "[CV] END ..learning_rate=0.001, max_depth=127, num_leaves=10; total time=   3.2s\n",
            "[CV] END ..learning_rate=0.001, max_depth=127, num_leaves=10; total time=   5.1s\n",
            "[CV] END ..learning_rate=0.001, max_depth=127, num_leaves=10; total time=   3.2s\n",
            "[CV] END .learning_rate=0.001, max_depth=127, num_leaves=100; total time=  10.0s\n",
            "[CV] END .learning_rate=0.001, max_depth=127, num_leaves=100; total time=  10.1s\n",
            "[CV] END .learning_rate=0.001, max_depth=127, num_leaves=100; total time=   8.3s\n",
            "[CV] END ..learning_rate=0.001, max_depth=511, num_leaves=10; total time=   5.3s\n",
            "[CV] END ..learning_rate=0.001, max_depth=511, num_leaves=10; total time=   3.2s\n",
            "[CV] END ..learning_rate=0.001, max_depth=511, num_leaves=10; total time=   3.2s\n",
            "[CV] END .learning_rate=0.001, max_depth=511, num_leaves=100; total time=  11.2s\n",
            "[CV] END .learning_rate=0.001, max_depth=511, num_leaves=100; total time=  10.2s\n",
            "[CV] END .learning_rate=0.001, max_depth=511, num_leaves=100; total time=  10.1s\n",
            "[CV] END .....learning_rate=0.01, max_depth=7, num_leaves=10; total time=   3.0s\n",
            "[CV] END .....learning_rate=0.01, max_depth=7, num_leaves=10; total time=   5.0s\n",
            "[CV] END .....learning_rate=0.01, max_depth=7, num_leaves=10; total time=   3.0s\n",
            "[CV] END ....learning_rate=0.01, max_depth=7, num_leaves=100; total time=   5.7s\n",
            "[CV] END ....learning_rate=0.01, max_depth=7, num_leaves=100; total time=   7.5s\n",
            "[CV] END ....learning_rate=0.01, max_depth=7, num_leaves=100; total time=   6.3s\n",
            "[CV] END ...learning_rate=0.01, max_depth=127, num_leaves=10; total time=   3.9s\n",
            "[CV] END ...learning_rate=0.01, max_depth=127, num_leaves=10; total time=   3.1s\n",
            "[CV] END ...learning_rate=0.01, max_depth=127, num_leaves=10; total time=   3.0s\n",
            "[CV] END ..learning_rate=0.01, max_depth=127, num_leaves=100; total time=   9.4s\n",
            "[CV] END ..learning_rate=0.01, max_depth=127, num_leaves=100; total time=   9.4s\n",
            "[CV] END ..learning_rate=0.01, max_depth=127, num_leaves=100; total time=   9.4s\n",
            "[CV] END ...learning_rate=0.01, max_depth=511, num_leaves=10; total time=   3.5s\n",
            "[CV] END ...learning_rate=0.01, max_depth=511, num_leaves=10; total time=   3.0s\n",
            "[CV] END ...learning_rate=0.01, max_depth=511, num_leaves=10; total time=   3.1s\n",
            "[CV] END ..learning_rate=0.01, max_depth=511, num_leaves=100; total time=  11.3s\n",
            "[CV] END ..learning_rate=0.01, max_depth=511, num_leaves=100; total time=   9.4s\n",
            "[CV] END ..learning_rate=0.01, max_depth=511, num_leaves=100; total time=   9.4s\n",
            "[CV] END ......learning_rate=0.1, max_depth=7, num_leaves=10; total time=   2.2s\n",
            "[CV] END ......learning_rate=0.1, max_depth=7, num_leaves=10; total time=   2.2s\n",
            "[CV] END ......learning_rate=0.1, max_depth=7, num_leaves=10; total time=   2.6s\n",
            "[CV] END .....learning_rate=0.1, max_depth=7, num_leaves=100; total time=   6.0s\n",
            "[CV] END .....learning_rate=0.1, max_depth=7, num_leaves=100; total time=   4.7s\n",
            "[CV] END .....learning_rate=0.1, max_depth=7, num_leaves=100; total time=   6.6s\n",
            "[CV] END ....learning_rate=0.1, max_depth=127, num_leaves=10; total time=   2.2s\n",
            "[CV] END ....learning_rate=0.1, max_depth=127, num_leaves=10; total time=   2.3s\n",
            "[CV] END ....learning_rate=0.1, max_depth=127, num_leaves=10; total time=   2.6s\n",
            "[CV] END ...learning_rate=0.1, max_depth=127, num_leaves=100; total time=   6.5s\n",
            "[CV] END ...learning_rate=0.1, max_depth=127, num_leaves=100; total time=   5.1s\n",
            "[CV] END ...learning_rate=0.1, max_depth=127, num_leaves=100; total time=   7.0s\n",
            "[CV] END ....learning_rate=0.1, max_depth=511, num_leaves=10; total time=   2.2s\n",
            "[CV] END ....learning_rate=0.1, max_depth=511, num_leaves=10; total time=   2.2s\n",
            "[CV] END ....learning_rate=0.1, max_depth=511, num_leaves=10; total time=   4.2s\n",
            "[CV] END ...learning_rate=0.1, max_depth=511, num_leaves=100; total time=   5.1s\n",
            "[CV] END ...learning_rate=0.1, max_depth=511, num_leaves=100; total time=   6.2s\n",
            "[CV] END ...learning_rate=0.1, max_depth=511, num_leaves=100; total time=   5.2s\n",
            "IinnerCV best params {'learning_rate': 0.1, 'max_depth': 7, 'num_leaves': 100}\n",
            "outerCV START\n",
            "Fitting 3 folds for each of 18 candidates, totalling 54 fits\n"
          ]
        },
        {
          "output_type": "stream",
          "name": "stderr",
          "text": [
            "/usr/local/lib/python3.8/dist-packages/sklearn/model_selection/_split.py:700: UserWarning: The least populated class in y has only 1 members, which is less than n_splits=5.\n",
            "  warnings.warn(\n",
            "/usr/local/lib/python3.8/dist-packages/sklearn/model_selection/_split.py:700: UserWarning: The least populated class in y has only 1 members, which is less than n_splits=3.\n",
            "  warnings.warn(\n"
          ]
        },
        {
          "output_type": "stream",
          "name": "stdout",
          "text": [
            "[CV] END ....learning_rate=0.001, max_depth=7, num_leaves=10; total time=   5.5s\n",
            "[CV] END ....learning_rate=0.001, max_depth=7, num_leaves=10; total time=   3.6s\n",
            "[CV] END ....learning_rate=0.001, max_depth=7, num_leaves=10; total time=   3.9s\n",
            "[CV] END ...learning_rate=0.001, max_depth=7, num_leaves=100; total time=   8.9s\n",
            "[CV] END ...learning_rate=0.001, max_depth=7, num_leaves=100; total time=   9.3s\n",
            "[CV] END ...learning_rate=0.001, max_depth=7, num_leaves=100; total time=   9.5s\n",
            "[CV] END ..learning_rate=0.001, max_depth=127, num_leaves=10; total time=   3.6s\n",
            "[CV] END ..learning_rate=0.001, max_depth=127, num_leaves=10; total time=   3.6s\n",
            "[CV] END ..learning_rate=0.001, max_depth=127, num_leaves=10; total time=   5.6s\n",
            "[CV] END .learning_rate=0.001, max_depth=127, num_leaves=100; total time=   9.9s\n",
            "[CV] END .learning_rate=0.001, max_depth=127, num_leaves=100; total time=   9.1s\n",
            "[CV] END .learning_rate=0.001, max_depth=127, num_leaves=100; total time=  10.7s\n",
            "[CV] END ..learning_rate=0.001, max_depth=511, num_leaves=10; total time=   5.5s\n",
            "[CV] END ..learning_rate=0.001, max_depth=511, num_leaves=10; total time=   3.6s\n",
            "[CV] END ..learning_rate=0.001, max_depth=511, num_leaves=10; total time=   3.6s\n",
            "[CV] END .learning_rate=0.001, max_depth=511, num_leaves=100; total time=  12.5s\n",
            "[CV] END .learning_rate=0.001, max_depth=511, num_leaves=100; total time=  10.7s\n",
            "[CV] END .learning_rate=0.001, max_depth=511, num_leaves=100; total time=  10.8s\n",
            "[CV] END .....learning_rate=0.01, max_depth=7, num_leaves=10; total time=   3.4s\n",
            "[CV] END .....learning_rate=0.01, max_depth=7, num_leaves=10; total time=   5.4s\n",
            "[CV] END .....learning_rate=0.01, max_depth=7, num_leaves=10; total time=   3.4s\n",
            "[CV] END ....learning_rate=0.01, max_depth=7, num_leaves=100; total time=   6.4s\n",
            "[CV] END ....learning_rate=0.01, max_depth=7, num_leaves=100; total time=   7.7s\n",
            "[CV] END ....learning_rate=0.01, max_depth=7, num_leaves=100; total time=   8.1s\n",
            "[CV] END ...learning_rate=0.01, max_depth=127, num_leaves=10; total time=   3.4s\n",
            "[CV] END ...learning_rate=0.01, max_depth=127, num_leaves=10; total time=   3.5s\n",
            "[CV] END ...learning_rate=0.01, max_depth=127, num_leaves=10; total time=   5.5s\n",
            "[CV] END ..learning_rate=0.01, max_depth=127, num_leaves=100; total time=   8.4s\n",
            "[CV] END ..learning_rate=0.01, max_depth=127, num_leaves=100; total time=  11.3s\n",
            "[CV] END ..learning_rate=0.01, max_depth=127, num_leaves=100; total time=  10.4s\n",
            "[CV] END ...learning_rate=0.01, max_depth=511, num_leaves=10; total time=   5.4s\n",
            "[CV] END ...learning_rate=0.01, max_depth=511, num_leaves=10; total time=   3.5s\n",
            "[CV] END ...learning_rate=0.01, max_depth=511, num_leaves=10; total time=   3.5s\n",
            "[CV] END ..learning_rate=0.01, max_depth=511, num_leaves=100; total time=  10.1s\n",
            "[CV] END ..learning_rate=0.01, max_depth=511, num_leaves=100; total time=  10.2s\n",
            "[CV] END ..learning_rate=0.01, max_depth=511, num_leaves=100; total time=  10.2s\n",
            "[CV] END ......learning_rate=0.1, max_depth=7, num_leaves=10; total time=   2.6s\n",
            "[CV] END ......learning_rate=0.1, max_depth=7, num_leaves=10; total time=   2.6s\n",
            "[CV] END ......learning_rate=0.1, max_depth=7, num_leaves=10; total time=   2.7s\n",
            "[CV] END .....learning_rate=0.1, max_depth=7, num_leaves=100; total time=   6.9s\n",
            "[CV] END .....learning_rate=0.1, max_depth=7, num_leaves=100; total time=   5.4s\n",
            "[CV] END .....learning_rate=0.1, max_depth=7, num_leaves=100; total time=   6.9s\n",
            "[CV] END ....learning_rate=0.1, max_depth=127, num_leaves=10; total time=   2.6s\n",
            "[CV] END ....learning_rate=0.1, max_depth=127, num_leaves=10; total time=   2.9s\n",
            "[CV] END ....learning_rate=0.1, max_depth=127, num_leaves=10; total time=   4.1s\n",
            "[CV] END ...learning_rate=0.1, max_depth=127, num_leaves=100; total time=   5.6s\n",
            "[CV] END ...learning_rate=0.1, max_depth=127, num_leaves=100; total time=   7.5s\n",
            "[CV] END ...learning_rate=0.1, max_depth=127, num_leaves=100; total time=   8.0s\n",
            "[CV] END ....learning_rate=0.1, max_depth=511, num_leaves=10; total time=   3.7s\n",
            "[CV] END ....learning_rate=0.1, max_depth=511, num_leaves=10; total time=   2.6s\n",
            "[CV] END ....learning_rate=0.1, max_depth=511, num_leaves=10; total time=   2.6s\n",
            "[CV] END ...learning_rate=0.1, max_depth=511, num_leaves=100; total time=   7.5s\n",
            "[CV] END ...learning_rate=0.1, max_depth=511, num_leaves=100; total time=   5.5s\n",
            "[CV] END ...learning_rate=0.1, max_depth=511, num_leaves=100; total time=   7.5s\n",
            "Fitting 3 folds for each of 18 candidates, totalling 54 fits\n"
          ]
        },
        {
          "output_type": "stream",
          "name": "stderr",
          "text": [
            "/usr/local/lib/python3.8/dist-packages/sklearn/model_selection/_split.py:700: UserWarning: The least populated class in y has only 1 members, which is less than n_splits=3.\n",
            "  warnings.warn(\n"
          ]
        },
        {
          "output_type": "stream",
          "name": "stdout",
          "text": [
            "[CV] END ....learning_rate=0.001, max_depth=7, num_leaves=10; total time=   3.5s\n",
            "[CV] END ....learning_rate=0.001, max_depth=7, num_leaves=10; total time=   5.7s\n",
            "[CV] END ....learning_rate=0.001, max_depth=7, num_leaves=10; total time=   3.7s\n",
            "[CV] END ...learning_rate=0.001, max_depth=7, num_leaves=100; total time=   9.7s\n",
            "[CV] END ...learning_rate=0.001, max_depth=7, num_leaves=100; total time=   7.7s\n",
            "[CV] END ...learning_rate=0.001, max_depth=7, num_leaves=100; total time=   9.8s\n",
            "[CV] END ..learning_rate=0.001, max_depth=127, num_leaves=10; total time=   5.6s\n",
            "[CV] END ..learning_rate=0.001, max_depth=127, num_leaves=10; total time=   3.8s\n",
            "[CV] END ..learning_rate=0.001, max_depth=127, num_leaves=10; total time=   3.7s\n",
            "[CV] END .learning_rate=0.001, max_depth=127, num_leaves=100; total time=  10.8s\n",
            "[CV] END .learning_rate=0.001, max_depth=127, num_leaves=100; total time=  11.0s\n",
            "[CV] END .learning_rate=0.001, max_depth=127, num_leaves=100; total time=  11.0s\n",
            "[CV] END ..learning_rate=0.001, max_depth=511, num_leaves=10; total time=   3.6s\n",
            "[CV] END ..learning_rate=0.001, max_depth=511, num_leaves=10; total time=   5.7s\n",
            "[CV] END ..learning_rate=0.001, max_depth=511, num_leaves=10; total time=   3.7s\n",
            "[CV] END .learning_rate=0.001, max_depth=511, num_leaves=100; total time=  10.9s\n",
            "[CV] END .learning_rate=0.001, max_depth=511, num_leaves=100; total time=  11.0s\n",
            "[CV] END .learning_rate=0.001, max_depth=511, num_leaves=100; total time=  11.0s\n",
            "[CV] END .....learning_rate=0.01, max_depth=7, num_leaves=10; total time=   3.4s\n",
            "[CV] END .....learning_rate=0.01, max_depth=7, num_leaves=10; total time=   3.5s\n",
            "[CV] END .....learning_rate=0.01, max_depth=7, num_leaves=10; total time=   5.4s\n",
            "[CV] END ....learning_rate=0.01, max_depth=7, num_leaves=100; total time=   6.3s\n",
            "[CV] END ....learning_rate=0.01, max_depth=7, num_leaves=100; total time=  10.4s\n",
            "[CV] END ....learning_rate=0.01, max_depth=7, num_leaves=100; total time=   8.3s\n",
            "[CV] END ...learning_rate=0.01, max_depth=127, num_leaves=10; total time=   3.5s\n",
            "[CV] END ...learning_rate=0.01, max_depth=127, num_leaves=10; total time=   3.8s\n",
            "[CV] END ...learning_rate=0.01, max_depth=127, num_leaves=10; total time=   5.0s\n",
            "[CV] END ..learning_rate=0.01, max_depth=127, num_leaves=100; total time=   9.0s\n",
            "[CV] END ..learning_rate=0.01, max_depth=127, num_leaves=100; total time=   8.5s\n",
            "[CV] END ..learning_rate=0.01, max_depth=127, num_leaves=100; total time=  10.2s\n",
            "[CV] END ...learning_rate=0.01, max_depth=511, num_leaves=10; total time=   3.4s\n",
            "[CV] END ...learning_rate=0.01, max_depth=511, num_leaves=10; total time=   5.5s\n",
            "[CV] END ...learning_rate=0.01, max_depth=511, num_leaves=10; total time=   3.5s\n",
            "[CV] END ..learning_rate=0.01, max_depth=511, num_leaves=100; total time=  10.1s\n",
            "[CV] END ..learning_rate=0.01, max_depth=511, num_leaves=100; total time=  10.1s\n",
            "[CV] END ..learning_rate=0.01, max_depth=511, num_leaves=100; total time=   8.4s\n",
            "[CV] END ......learning_rate=0.1, max_depth=7, num_leaves=10; total time=   4.0s\n",
            "[CV] END ......learning_rate=0.1, max_depth=7, num_leaves=10; total time=   2.6s\n",
            "[CV] END ......learning_rate=0.1, max_depth=7, num_leaves=10; total time=   2.6s\n",
            "[CV] END .....learning_rate=0.1, max_depth=7, num_leaves=100; total time=   7.3s\n",
            "[CV] END .....learning_rate=0.1, max_depth=7, num_leaves=100; total time=   5.3s\n",
            "[CV] END .....learning_rate=0.1, max_depth=7, num_leaves=100; total time=   7.3s\n",
            "[CV] END ....learning_rate=0.1, max_depth=127, num_leaves=10; total time=   2.6s\n",
            "[CV] END ....learning_rate=0.1, max_depth=127, num_leaves=10; total time=   2.7s\n",
            "[CV] END ....learning_rate=0.1, max_depth=127, num_leaves=10; total time=   4.6s\n",
            "[CV] END ...learning_rate=0.1, max_depth=127, num_leaves=100; total time=   5.6s\n",
            "[CV] END ...learning_rate=0.1, max_depth=127, num_leaves=100; total time=   7.5s\n",
            "[CV] END ...learning_rate=0.1, max_depth=127, num_leaves=100; total time=   5.5s\n",
            "[CV] END ....learning_rate=0.1, max_depth=511, num_leaves=10; total time=   2.9s\n",
            "[CV] END ....learning_rate=0.1, max_depth=511, num_leaves=10; total time=   4.1s\n",
            "[CV] END ....learning_rate=0.1, max_depth=511, num_leaves=10; total time=   2.6s\n",
            "[CV] END ...learning_rate=0.1, max_depth=511, num_leaves=100; total time=   6.1s\n",
            "[CV] END ...learning_rate=0.1, max_depth=511, num_leaves=100; total time=   6.6s\n",
            "[CV] END ...learning_rate=0.1, max_depth=511, num_leaves=100; total time=   6.0s\n",
            "Fitting 3 folds for each of 18 candidates, totalling 54 fits\n"
          ]
        },
        {
          "output_type": "stream",
          "name": "stderr",
          "text": [
            "/usr/local/lib/python3.8/dist-packages/sklearn/model_selection/_split.py:700: UserWarning: The least populated class in y has only 1 members, which is less than n_splits=3.\n",
            "  warnings.warn(\n"
          ]
        },
        {
          "output_type": "stream",
          "name": "stdout",
          "text": [
            "[CV] END ....learning_rate=0.001, max_depth=7, num_leaves=10; total time=   5.6s\n",
            "[CV] END ....learning_rate=0.001, max_depth=7, num_leaves=10; total time=   3.8s\n",
            "[CV] END ....learning_rate=0.001, max_depth=7, num_leaves=10; total time=   7.7s\n",
            "[CV] END ...learning_rate=0.001, max_depth=7, num_leaves=100; total time=   7.6s\n",
            "[CV] END ...learning_rate=0.001, max_depth=7, num_leaves=100; total time=   9.4s\n",
            "[CV] END ...learning_rate=0.001, max_depth=7, num_leaves=100; total time=   9.7s\n",
            "[CV] END ..learning_rate=0.001, max_depth=127, num_leaves=10; total time=   3.6s\n",
            "[CV] END ..learning_rate=0.001, max_depth=127, num_leaves=10; total time=   5.8s\n",
            "[CV] END ..learning_rate=0.001, max_depth=127, num_leaves=10; total time=   3.8s\n",
            "[CV] END .learning_rate=0.001, max_depth=127, num_leaves=100; total time=  10.8s\n",
            "[CV] END .learning_rate=0.001, max_depth=127, num_leaves=100; total time=  10.9s\n",
            "[CV] END .learning_rate=0.001, max_depth=127, num_leaves=100; total time=  10.9s\n",
            "[CV] END ..learning_rate=0.001, max_depth=511, num_leaves=10; total time=   3.6s\n",
            "[CV] END ..learning_rate=0.001, max_depth=511, num_leaves=10; total time=   3.9s\n",
            "[CV] END ..learning_rate=0.001, max_depth=511, num_leaves=10; total time=   5.6s\n",
            "[CV] END .learning_rate=0.001, max_depth=511, num_leaves=100; total time=  10.8s\n",
            "[CV] END .learning_rate=0.001, max_depth=511, num_leaves=100; total time=   9.9s\n",
            "[CV] END .learning_rate=0.001, max_depth=511, num_leaves=100; total time=   9.4s\n",
            "[CV] END .....learning_rate=0.01, max_depth=7, num_leaves=10; total time=   5.4s\n",
            "[CV] END .....learning_rate=0.01, max_depth=7, num_leaves=10; total time=   3.6s\n",
            "[CV] END .....learning_rate=0.01, max_depth=7, num_leaves=10; total time=   3.6s\n",
            "[CV] END ....learning_rate=0.01, max_depth=7, num_leaves=100; total time=   8.3s\n",
            "[CV] END ....learning_rate=0.01, max_depth=7, num_leaves=100; total time=   8.4s\n",
            "[CV] END ....learning_rate=0.01, max_depth=7, num_leaves=100; total time=   6.3s\n",
            "[CV] END ...learning_rate=0.01, max_depth=127, num_leaves=10; total time=   5.5s\n",
            "[CV] END ...learning_rate=0.01, max_depth=127, num_leaves=10; total time=   3.6s\n",
            "[CV] END ...learning_rate=0.01, max_depth=127, num_leaves=10; total time=   3.6s\n",
            "[CV] END ..learning_rate=0.01, max_depth=127, num_leaves=100; total time=  10.0s\n",
            "[CV] END ..learning_rate=0.01, max_depth=127, num_leaves=100; total time=  10.2s\n",
            "[CV] END ..learning_rate=0.01, max_depth=127, num_leaves=100; total time=  10.1s\n",
            "[CV] END ...learning_rate=0.01, max_depth=511, num_leaves=10; total time=   5.5s\n",
            "[CV] END ...learning_rate=0.01, max_depth=511, num_leaves=10; total time=   5.5s\n",
            "[CV] END ...learning_rate=0.01, max_depth=511, num_leaves=10; total time=   3.6s\n",
            "[CV] END ..learning_rate=0.01, max_depth=511, num_leaves=100; total time=  10.1s\n",
            "[CV] END ..learning_rate=0.01, max_depth=511, num_leaves=100; total time=   9.1s\n",
            "[CV] END ..learning_rate=0.01, max_depth=511, num_leaves=100; total time=   8.6s\n",
            "[CV] END ......learning_rate=0.1, max_depth=7, num_leaves=10; total time=   3.1s\n",
            "[CV] END ......learning_rate=0.1, max_depth=7, num_leaves=10; total time=   3.8s\n",
            "[CV] END ......learning_rate=0.1, max_depth=7, num_leaves=10; total time=   2.6s\n",
            "[CV] END .....learning_rate=0.1, max_depth=7, num_leaves=100; total time=   5.6s\n",
            "[CV] END .....learning_rate=0.1, max_depth=7, num_leaves=100; total time=   6.8s\n",
            "[CV] END .....learning_rate=0.1, max_depth=7, num_leaves=100; total time=   5.8s\n",
            "[CV] END ....learning_rate=0.1, max_depth=127, num_leaves=10; total time=   4.1s\n",
            "[CV] END ....learning_rate=0.1, max_depth=127, num_leaves=10; total time=   2.7s\n",
            "[CV] END ....learning_rate=0.1, max_depth=127, num_leaves=10; total time=   2.6s\n",
            "[CV] END ...learning_rate=0.1, max_depth=127, num_leaves=100; total time=   7.4s\n",
            "[CV] END ...learning_rate=0.1, max_depth=127, num_leaves=100; total time=   5.6s\n",
            "[CV] END ...learning_rate=0.1, max_depth=127, num_leaves=100; total time=   7.4s\n",
            "[CV] END ....learning_rate=0.1, max_depth=511, num_leaves=10; total time=   2.6s\n",
            "[CV] END ....learning_rate=0.1, max_depth=511, num_leaves=10; total time=   2.6s\n",
            "[CV] END ....learning_rate=0.1, max_depth=511, num_leaves=10; total time=   4.6s\n",
            "[CV] END ...learning_rate=0.1, max_depth=511, num_leaves=100; total time=   5.5s\n",
            "[CV] END ...learning_rate=0.1, max_depth=511, num_leaves=100; total time=   7.5s\n",
            "[CV] END ...learning_rate=0.1, max_depth=511, num_leaves=100; total time=   5.5s\n",
            "Fitting 3 folds for each of 18 candidates, totalling 54 fits\n"
          ]
        },
        {
          "output_type": "stream",
          "name": "stderr",
          "text": [
            "/usr/local/lib/python3.8/dist-packages/sklearn/model_selection/_split.py:700: UserWarning: The least populated class in y has only 1 members, which is less than n_splits=3.\n",
            "  warnings.warn(\n"
          ]
        },
        {
          "output_type": "stream",
          "name": "stdout",
          "text": [
            "[CV] END ....learning_rate=0.001, max_depth=7, num_leaves=10; total time=   3.7s\n",
            "[CV] END ....learning_rate=0.001, max_depth=7, num_leaves=10; total time=   3.8s\n",
            "[CV] END ....learning_rate=0.001, max_depth=7, num_leaves=10; total time=   5.8s\n",
            "[CV] END ...learning_rate=0.001, max_depth=7, num_leaves=100; total time=   7.9s\n",
            "[CV] END ...learning_rate=0.001, max_depth=7, num_leaves=100; total time=   9.2s\n",
            "[CV] END ...learning_rate=0.001, max_depth=7, num_leaves=100; total time=   9.8s\n",
            "[CV] END ..learning_rate=0.001, max_depth=127, num_leaves=10; total time=   3.6s\n",
            "[CV] END ..learning_rate=0.001, max_depth=127, num_leaves=10; total time=   5.7s\n",
            "[CV] END ..learning_rate=0.001, max_depth=127, num_leaves=10; total time=   3.8s\n",
            "[CV] END .learning_rate=0.001, max_depth=127, num_leaves=100; total time=  10.8s\n",
            "[CV] END .learning_rate=0.001, max_depth=127, num_leaves=100; total time=  13.0s\n",
            "[CV] END .learning_rate=0.001, max_depth=127, num_leaves=100; total time=  10.9s\n",
            "[CV] END ..learning_rate=0.001, max_depth=511, num_leaves=10; total time=   3.6s\n",
            "[CV] END ..learning_rate=0.001, max_depth=511, num_leaves=10; total time=   5.7s\n",
            "[CV] END ..learning_rate=0.001, max_depth=511, num_leaves=10; total time=   3.8s\n",
            "[CV] END .learning_rate=0.001, max_depth=511, num_leaves=100; total time=  10.8s\n",
            "[CV] END .learning_rate=0.001, max_depth=511, num_leaves=100; total time=  11.0s\n",
            "[CV] END .learning_rate=0.001, max_depth=511, num_leaves=100; total time=  10.9s\n",
            "[CV] END .....learning_rate=0.01, max_depth=7, num_leaves=10; total time=   3.5s\n",
            "[CV] END .....learning_rate=0.01, max_depth=7, num_leaves=10; total time=   3.6s\n",
            "[CV] END .....learning_rate=0.01, max_depth=7, num_leaves=10; total time=   5.5s\n",
            "[CV] END ....learning_rate=0.01, max_depth=7, num_leaves=100; total time=   6.3s\n",
            "[CV] END ....learning_rate=0.01, max_depth=7, num_leaves=100; total time=   8.4s\n",
            "[CV] END ....learning_rate=0.01, max_depth=7, num_leaves=100; total time=   7.2s\n",
            "[CV] END ...learning_rate=0.01, max_depth=127, num_leaves=10; total time=   3.8s\n",
            "[CV] END ...learning_rate=0.01, max_depth=127, num_leaves=10; total time=   3.6s\n",
            "[CV] END ...learning_rate=0.01, max_depth=127, num_leaves=10; total time=   3.9s\n",
            "[CV] END ..learning_rate=0.01, max_depth=127, num_leaves=100; total time=   9.5s\n",
            "[CV] END ..learning_rate=0.01, max_depth=127, num_leaves=100; total time=  10.2s\n",
            "[CV] END ..learning_rate=0.01, max_depth=127, num_leaves=100; total time=  10.0s\n",
            "[CV] END ...learning_rate=0.01, max_depth=511, num_leaves=10; total time=   3.5s\n",
            "[CV] END ...learning_rate=0.01, max_depth=511, num_leaves=10; total time=   5.5s\n",
            "[CV] END ...learning_rate=0.01, max_depth=511, num_leaves=10; total time=   3.5s\n",
            "[CV] END ..learning_rate=0.01, max_depth=511, num_leaves=100; total time=  10.1s\n",
            "[CV] END ..learning_rate=0.01, max_depth=511, num_leaves=100; total time=   8.8s\n",
            "[CV] END ..learning_rate=0.01, max_depth=511, num_leaves=100; total time=   9.0s\n",
            "[CV] END ......learning_rate=0.1, max_depth=7, num_leaves=10; total time=   3.0s\n",
            "[CV] END ......learning_rate=0.1, max_depth=7, num_leaves=10; total time=   3.9s\n",
            "[CV] END ......learning_rate=0.1, max_depth=7, num_leaves=10; total time=   2.6s\n",
            "[CV] END .....learning_rate=0.1, max_depth=7, num_leaves=100; total time=   5.7s\n",
            "[CV] END .....learning_rate=0.1, max_depth=7, num_leaves=100; total time=   6.8s\n",
            "[CV] END .....learning_rate=0.1, max_depth=7, num_leaves=100; total time=   9.3s\n",
            "[CV] END ....learning_rate=0.1, max_depth=127, num_leaves=10; total time=   2.6s\n",
            "[CV] END ....learning_rate=0.1, max_depth=127, num_leaves=10; total time=   2.7s\n",
            "[CV] END ....learning_rate=0.1, max_depth=127, num_leaves=10; total time=   2.6s\n",
            "[CV] END ...learning_rate=0.1, max_depth=127, num_leaves=100; total time=   7.5s\n",
            "[CV] END ...learning_rate=0.1, max_depth=127, num_leaves=100; total time=   6.0s\n",
            "[CV] END ...learning_rate=0.1, max_depth=127, num_leaves=100; total time=   6.5s\n",
            "[CV] END ....learning_rate=0.1, max_depth=511, num_leaves=10; total time=   2.6s\n",
            "[CV] END ....learning_rate=0.1, max_depth=511, num_leaves=10; total time=   3.1s\n",
            "[CV] END ....learning_rate=0.1, max_depth=511, num_leaves=10; total time=   3.8s\n",
            "[CV] END ...learning_rate=0.1, max_depth=511, num_leaves=100; total time=   5.6s\n",
            "[CV] END ...learning_rate=0.1, max_depth=511, num_leaves=100; total time=   7.4s\n",
            "[CV] END ...learning_rate=0.1, max_depth=511, num_leaves=100; total time=   5.5s\n",
            "Fitting 3 folds for each of 18 candidates, totalling 54 fits\n"
          ]
        },
        {
          "output_type": "stream",
          "name": "stderr",
          "text": [
            "/usr/local/lib/python3.8/dist-packages/sklearn/model_selection/_split.py:700: UserWarning: The least populated class in y has only 1 members, which is less than n_splits=3.\n",
            "  warnings.warn(\n"
          ]
        },
        {
          "output_type": "stream",
          "name": "stdout",
          "text": [
            "[CV] END ....learning_rate=0.001, max_depth=7, num_leaves=10; total time=   5.6s\n",
            "[CV] END ....learning_rate=0.001, max_depth=7, num_leaves=10; total time=   3.8s\n",
            "[CV] END ....learning_rate=0.001, max_depth=7, num_leaves=10; total time=   3.9s\n",
            "[CV] END ...learning_rate=0.001, max_depth=7, num_leaves=100; total time=   9.4s\n",
            "[CV] END ...learning_rate=0.001, max_depth=7, num_leaves=100; total time=   9.6s\n",
            "[CV] END ...learning_rate=0.001, max_depth=7, num_leaves=100; total time=   9.7s\n",
            "[CV] END ..learning_rate=0.001, max_depth=127, num_leaves=10; total time=   3.6s\n",
            "[CV] END ..learning_rate=0.001, max_depth=127, num_leaves=10; total time=   3.8s\n",
            "[CV] END ..learning_rate=0.001, max_depth=127, num_leaves=10; total time=   5.8s\n",
            "[CV] END .learning_rate=0.001, max_depth=127, num_leaves=100; total time=  10.8s\n",
            "[CV] END .learning_rate=0.001, max_depth=127, num_leaves=100; total time=   9.6s\n",
            "[CV] END .learning_rate=0.001, max_depth=127, num_leaves=100; total time=   9.7s\n",
            "[CV] END ..learning_rate=0.001, max_depth=511, num_leaves=10; total time=   5.8s\n",
            "[CV] END ..learning_rate=0.001, max_depth=511, num_leaves=10; total time=   3.7s\n",
            "[CV] END ..learning_rate=0.001, max_depth=511, num_leaves=10; total time=   4.1s\n",
            "[CV] END .learning_rate=0.001, max_depth=511, num_leaves=100; total time=  10.7s\n",
            "[CV] END .learning_rate=0.001, max_depth=511, num_leaves=100; total time=  11.0s\n",
            "[CV] END .learning_rate=0.001, max_depth=511, num_leaves=100; total time=  12.9s\n",
            "[CV] END .....learning_rate=0.01, max_depth=7, num_leaves=10; total time=   5.4s\n",
            "[CV] END .....learning_rate=0.01, max_depth=7, num_leaves=10; total time=   3.6s\n",
            "[CV] END .....learning_rate=0.01, max_depth=7, num_leaves=10; total time=   3.6s\n",
            "[CV] END ....learning_rate=0.01, max_depth=7, num_leaves=100; total time=   8.2s\n",
            "[CV] END ....learning_rate=0.01, max_depth=7, num_leaves=100; total time=   7.0s\n",
            "[CV] END ....learning_rate=0.01, max_depth=7, num_leaves=100; total time=   7.1s\n",
            "[CV] END ...learning_rate=0.01, max_depth=127, num_leaves=10; total time=   3.6s\n",
            "[CV] END ...learning_rate=0.01, max_depth=127, num_leaves=10; total time=   5.6s\n",
            "[CV] END ...learning_rate=0.01, max_depth=127, num_leaves=10; total time=   3.6s\n",
            "[CV] END ..learning_rate=0.01, max_depth=127, num_leaves=100; total time=  10.1s\n",
            "[CV] END ..learning_rate=0.01, max_depth=127, num_leaves=100; total time=  10.1s\n",
            "[CV] END ..learning_rate=0.01, max_depth=127, num_leaves=100; total time=   8.7s\n",
            "[CV] END ...learning_rate=0.01, max_depth=511, num_leaves=10; total time=   4.5s\n",
            "[CV] END ...learning_rate=0.01, max_depth=511, num_leaves=10; total time=   3.6s\n",
            "[CV] END ...learning_rate=0.01, max_depth=511, num_leaves=10; total time=   3.9s\n",
            "[CV] END ..learning_rate=0.01, max_depth=511, num_leaves=100; total time=   9.6s\n",
            "[CV] END ..learning_rate=0.01, max_depth=511, num_leaves=100; total time=  10.1s\n",
            "[CV] END ..learning_rate=0.01, max_depth=511, num_leaves=100; total time=  10.1s\n",
            "[CV] END ......learning_rate=0.1, max_depth=7, num_leaves=10; total time=   2.6s\n",
            "[CV] END ......learning_rate=0.1, max_depth=7, num_leaves=10; total time=   2.6s\n",
            "[CV] END ......learning_rate=0.1, max_depth=7, num_leaves=10; total time=   4.6s\n",
            "[CV] END .....learning_rate=0.1, max_depth=7, num_leaves=100; total time=   5.3s\n",
            "[CV] END .....learning_rate=0.1, max_depth=7, num_leaves=100; total time=   7.5s\n",
            "[CV] END .....learning_rate=0.1, max_depth=7, num_leaves=100; total time=   5.4s\n",
            "[CV] END ....learning_rate=0.1, max_depth=127, num_leaves=10; total time=   3.1s\n",
            "[CV] END ....learning_rate=0.1, max_depth=127, num_leaves=10; total time=   3.9s\n",
            "[CV] END ....learning_rate=0.1, max_depth=127, num_leaves=10; total time=   2.6s\n",
            "[CV] END ...learning_rate=0.1, max_depth=127, num_leaves=100; total time=   6.0s\n",
            "[CV] END ...learning_rate=0.1, max_depth=127, num_leaves=100; total time=   6.7s\n",
            "[CV] END ...learning_rate=0.1, max_depth=127, num_leaves=100; total time=   6.1s\n",
            "[CV] END ....learning_rate=0.1, max_depth=511, num_leaves=10; total time=   3.6s\n",
            "[CV] END ....learning_rate=0.1, max_depth=511, num_leaves=10; total time=   2.7s\n",
            "[CV] END ....learning_rate=0.1, max_depth=511, num_leaves=10; total time=   2.6s\n",
            "[CV] END ...learning_rate=0.1, max_depth=511, num_leaves=100; total time=   7.6s\n",
            "[CV] END ...learning_rate=0.1, max_depth=511, num_leaves=100; total time=   5.6s\n",
            "[CV] END ...learning_rate=0.1, max_depth=511, num_leaves=100; total time=   9.3s\n",
            "[0.78437895 0.82667577 0.84881886 0.84450076 0.77004138]\n",
            "0.8148831435457533\n"
          ]
        }
      ]
    },
    {
      "cell_type": "code",
      "source": [
        "y_pred = gscv.best_estimator_.predict(X_test)\n",
        "print('lightGBM bestparameter', gscv.best_params_)"
      ],
      "metadata": {
        "id": "kkJABvbpJq3D",
        "colab": {
          "base_uri": "https://localhost:8080/"
        },
        "outputId": "357e7597-0fc6-42bc-a96d-5fd9de6462be"
      },
      "execution_count": null,
      "outputs": [
        {
          "output_type": "stream",
          "name": "stdout",
          "text": [
            "lightGBM bestparameter {'learning_rate': 0.1, 'max_depth': 7, 'num_leaves': 100}\n"
          ]
        }
      ]
    },
    {
      "cell_type": "code",
      "source": [
        "print(\"平均二乗誤差 (MSE): \", mean_squared_error(y_test, y_pred)) \n",
        "print(\"二乗平均平方根誤差(RMSE): \", mean_squared_error(y_test, y_pred, squared=False)) \n",
        "print(\"平均絶対誤差 (MAE): \", mean_absolute_error(y_test, y_pred)) \n",
        "print(\"決定係数(R2): \", r2_score(y_test, y_pred)) \n",
        "print(\"平均絶対誤差率(MAPE): \", np.mean(np.abs((y_pred - y_test) / y_test)) * 100) "
      ],
      "metadata": {
        "id": "5cz7XHpcJqzz",
        "colab": {
          "base_uri": "https://localhost:8080/"
        },
        "outputId": "7a62eedc-f18b-4903-9a12-6734a9d999f8"
      },
      "execution_count": null,
      "outputs": [
        {
          "output_type": "stream",
          "name": "stdout",
          "text": [
            "平均二乗誤差 (MSE):  11149035242588.357\n",
            "二乗平均平方根誤差(RMSE):  3339017.1072620093\n",
            "平均絶対誤差 (MAE):  2294394.312736168\n",
            "決定係数(R2):  0.8790419992749802\n",
            "平均絶対誤差率(MAPE):  122.13823872065323\n"
          ]
        }
      ]
    },
    {
      "cell_type": "code",
      "execution_count": null,
      "metadata": {
        "id": "9w5UD3uogLgs",
        "colab": {
          "base_uri": "https://localhost:8080/",
          "height": 424
        },
        "outputId": "d486e507-24c9-470a-ab18-88531baeecaa"
      },
      "outputs": [
        {
          "output_type": "execute_result",
          "data": {
            "text/plain": [
              "         actual        pred          差額\n",
              "415    25000000 22589377.96 -2410622.04\n",
              "21084   2200000  2707803.04   507803.04\n",
              "29079   4300000  4440081.92   140081.92\n",
              "45060   9800000  9179135.73  -620864.27\n",
              "5837   14000000 12012020.73 -1987979.27\n",
              "...         ...         ...         ...\n",
              "22648  23000000 16363583.34 -6636416.66\n",
              "47179  10000000 10710544.35   710544.35\n",
              "23671  14000000 13869127.96  -130872.04\n",
              "67159  12000000  9800650.69 -2199349.31\n",
              "75763    940000  6928341.64  5988341.64\n",
              "\n",
              "[21635 rows x 3 columns]"
            ],
            "text/html": [
              "\n",
              "  <div id=\"df-856d5817-7cea-4032-879c-8f8e16e04ee0\">\n",
              "    <div class=\"colab-df-container\">\n",
              "      <div>\n",
              "<style scoped>\n",
              "    .dataframe tbody tr th:only-of-type {\n",
              "        vertical-align: middle;\n",
              "    }\n",
              "\n",
              "    .dataframe tbody tr th {\n",
              "        vertical-align: top;\n",
              "    }\n",
              "\n",
              "    .dataframe thead th {\n",
              "        text-align: right;\n",
              "    }\n",
              "</style>\n",
              "<table border=\"1\" class=\"dataframe\">\n",
              "  <thead>\n",
              "    <tr style=\"text-align: right;\">\n",
              "      <th></th>\n",
              "      <th>actual</th>\n",
              "      <th>pred</th>\n",
              "      <th>差額</th>\n",
              "    </tr>\n",
              "  </thead>\n",
              "  <tbody>\n",
              "    <tr>\n",
              "      <th>415</th>\n",
              "      <td>25000000</td>\n",
              "      <td>22589377.96</td>\n",
              "      <td>-2410622.04</td>\n",
              "    </tr>\n",
              "    <tr>\n",
              "      <th>21084</th>\n",
              "      <td>2200000</td>\n",
              "      <td>2707803.04</td>\n",
              "      <td>507803.04</td>\n",
              "    </tr>\n",
              "    <tr>\n",
              "      <th>29079</th>\n",
              "      <td>4300000</td>\n",
              "      <td>4440081.92</td>\n",
              "      <td>140081.92</td>\n",
              "    </tr>\n",
              "    <tr>\n",
              "      <th>45060</th>\n",
              "      <td>9800000</td>\n",
              "      <td>9179135.73</td>\n",
              "      <td>-620864.27</td>\n",
              "    </tr>\n",
              "    <tr>\n",
              "      <th>5837</th>\n",
              "      <td>14000000</td>\n",
              "      <td>12012020.73</td>\n",
              "      <td>-1987979.27</td>\n",
              "    </tr>\n",
              "    <tr>\n",
              "      <th>...</th>\n",
              "      <td>...</td>\n",
              "      <td>...</td>\n",
              "      <td>...</td>\n",
              "    </tr>\n",
              "    <tr>\n",
              "      <th>22648</th>\n",
              "      <td>23000000</td>\n",
              "      <td>16363583.34</td>\n",
              "      <td>-6636416.66</td>\n",
              "    </tr>\n",
              "    <tr>\n",
              "      <th>47179</th>\n",
              "      <td>10000000</td>\n",
              "      <td>10710544.35</td>\n",
              "      <td>710544.35</td>\n",
              "    </tr>\n",
              "    <tr>\n",
              "      <th>23671</th>\n",
              "      <td>14000000</td>\n",
              "      <td>13869127.96</td>\n",
              "      <td>-130872.04</td>\n",
              "    </tr>\n",
              "    <tr>\n",
              "      <th>67159</th>\n",
              "      <td>12000000</td>\n",
              "      <td>9800650.69</td>\n",
              "      <td>-2199349.31</td>\n",
              "    </tr>\n",
              "    <tr>\n",
              "      <th>75763</th>\n",
              "      <td>940000</td>\n",
              "      <td>6928341.64</td>\n",
              "      <td>5988341.64</td>\n",
              "    </tr>\n",
              "  </tbody>\n",
              "</table>\n",
              "<p>21635 rows × 3 columns</p>\n",
              "</div>\n",
              "      <button class=\"colab-df-convert\" onclick=\"convertToInteractive('df-856d5817-7cea-4032-879c-8f8e16e04ee0')\"\n",
              "              title=\"Convert this dataframe to an interactive table.\"\n",
              "              style=\"display:none;\">\n",
              "        \n",
              "  <svg xmlns=\"http://www.w3.org/2000/svg\" height=\"24px\"viewBox=\"0 0 24 24\"\n",
              "       width=\"24px\">\n",
              "    <path d=\"M0 0h24v24H0V0z\" fill=\"none\"/>\n",
              "    <path d=\"M18.56 5.44l.94 2.06.94-2.06 2.06-.94-2.06-.94-.94-2.06-.94 2.06-2.06.94zm-11 1L8.5 8.5l.94-2.06 2.06-.94-2.06-.94L8.5 2.5l-.94 2.06-2.06.94zm10 10l.94 2.06.94-2.06 2.06-.94-2.06-.94-.94-2.06-.94 2.06-2.06.94z\"/><path d=\"M17.41 7.96l-1.37-1.37c-.4-.4-.92-.59-1.43-.59-.52 0-1.04.2-1.43.59L10.3 9.45l-7.72 7.72c-.78.78-.78 2.05 0 2.83L4 21.41c.39.39.9.59 1.41.59.51 0 1.02-.2 1.41-.59l7.78-7.78 2.81-2.81c.8-.78.8-2.07 0-2.86zM5.41 20L4 18.59l7.72-7.72 1.47 1.35L5.41 20z\"/>\n",
              "  </svg>\n",
              "      </button>\n",
              "      \n",
              "  <style>\n",
              "    .colab-df-container {\n",
              "      display:flex;\n",
              "      flex-wrap:wrap;\n",
              "      gap: 12px;\n",
              "    }\n",
              "\n",
              "    .colab-df-convert {\n",
              "      background-color: #E8F0FE;\n",
              "      border: none;\n",
              "      border-radius: 50%;\n",
              "      cursor: pointer;\n",
              "      display: none;\n",
              "      fill: #1967D2;\n",
              "      height: 32px;\n",
              "      padding: 0 0 0 0;\n",
              "      width: 32px;\n",
              "    }\n",
              "\n",
              "    .colab-df-convert:hover {\n",
              "      background-color: #E2EBFA;\n",
              "      box-shadow: 0px 1px 2px rgba(60, 64, 67, 0.3), 0px 1px 3px 1px rgba(60, 64, 67, 0.15);\n",
              "      fill: #174EA6;\n",
              "    }\n",
              "\n",
              "    [theme=dark] .colab-df-convert {\n",
              "      background-color: #3B4455;\n",
              "      fill: #D2E3FC;\n",
              "    }\n",
              "\n",
              "    [theme=dark] .colab-df-convert:hover {\n",
              "      background-color: #434B5C;\n",
              "      box-shadow: 0px 1px 3px 1px rgba(0, 0, 0, 0.15);\n",
              "      filter: drop-shadow(0px 1px 2px rgba(0, 0, 0, 0.3));\n",
              "      fill: #FFFFFF;\n",
              "    }\n",
              "  </style>\n",
              "\n",
              "      <script>\n",
              "        const buttonEl =\n",
              "          document.querySelector('#df-856d5817-7cea-4032-879c-8f8e16e04ee0 button.colab-df-convert');\n",
              "        buttonEl.style.display =\n",
              "          google.colab.kernel.accessAllowed ? 'block' : 'none';\n",
              "\n",
              "        async function convertToInteractive(key) {\n",
              "          const element = document.querySelector('#df-856d5817-7cea-4032-879c-8f8e16e04ee0');\n",
              "          const dataTable =\n",
              "            await google.colab.kernel.invokeFunction('convertToInteractive',\n",
              "                                                     [key], {});\n",
              "          if (!dataTable) return;\n",
              "\n",
              "          const docLinkHtml = 'Like what you see? Visit the ' +\n",
              "            '<a target=\"_blank\" href=https://colab.research.google.com/notebooks/data_table.ipynb>data table notebook</a>'\n",
              "            + ' to learn more about interactive tables.';\n",
              "          element.innerHTML = '';\n",
              "          dataTable['output_type'] = 'display_data';\n",
              "          await google.colab.output.renderOutput(dataTable, element);\n",
              "          const docLink = document.createElement('div');\n",
              "          docLink.innerHTML = docLinkHtml;\n",
              "          element.appendChild(docLink);\n",
              "        }\n",
              "      </script>\n",
              "    </div>\n",
              "  </div>\n",
              "  "
            ]
          },
          "metadata": {},
          "execution_count": 81
        }
      ],
      "source": [
        "actual_pred_df_test = pd.DataFrame({\"actual\": (y_test), \"pred\": (y_pred)})\n",
        "actual_pred_df_test[\"差額\"] = actual_pred_df_test[\"pred\"] - actual_pred_df_test[\"actual\"]\n",
        "actual_pred_df_test"
      ]
    },
    {
      "cell_type": "code",
      "source": [
        "pd.options.display.float_format = '{:.2f}'.format"
      ],
      "metadata": {
        "id": "-1i_1mfjdOfc"
      },
      "execution_count": null,
      "outputs": []
    },
    {
      "cell_type": "code",
      "source": [
        "actual_pred_df_test.sort_values('差額')"
      ],
      "metadata": {
        "colab": {
          "base_uri": "https://localhost:8080/",
          "height": 424
        },
        "id": "XGOZkWLFcRd7",
        "outputId": "0950b2cb-fef2-466c-ea0d-8ba803fe1720"
      },
      "execution_count": null,
      "outputs": [
        {
          "output_type": "execute_result",
          "data": {
            "text/plain": [
              "         actual        pred           差額\n",
              "75361  40000000  4467933.67 -35532066.33\n",
              "20669  45000000 10657528.40 -34342471.60\n",
              "81660  37000000  4519589.04 -32480410.96\n",
              "11490  40000000 10890340.20 -29109659.80\n",
              "11718  33000000  5472645.87 -27527354.13\n",
              "...         ...         ...          ...\n",
              "27610   2900000 33756947.52  30856947.52\n",
              "55007   3900000 37106261.77  33206261.77\n",
              "49421   3000000 36554010.91  33554010.91\n",
              "61447      3700 33945408.24  33941708.24\n",
              "59624   4800000 40759968.39  35959968.39\n",
              "\n",
              "[21635 rows x 3 columns]"
            ],
            "text/html": [
              "\n",
              "  <div id=\"df-7684c093-3196-444e-b68f-f02bdf9e563e\">\n",
              "    <div class=\"colab-df-container\">\n",
              "      <div>\n",
              "<style scoped>\n",
              "    .dataframe tbody tr th:only-of-type {\n",
              "        vertical-align: middle;\n",
              "    }\n",
              "\n",
              "    .dataframe tbody tr th {\n",
              "        vertical-align: top;\n",
              "    }\n",
              "\n",
              "    .dataframe thead th {\n",
              "        text-align: right;\n",
              "    }\n",
              "</style>\n",
              "<table border=\"1\" class=\"dataframe\">\n",
              "  <thead>\n",
              "    <tr style=\"text-align: right;\">\n",
              "      <th></th>\n",
              "      <th>actual</th>\n",
              "      <th>pred</th>\n",
              "      <th>差額</th>\n",
              "    </tr>\n",
              "  </thead>\n",
              "  <tbody>\n",
              "    <tr>\n",
              "      <th>75361</th>\n",
              "      <td>40000000</td>\n",
              "      <td>4467933.67</td>\n",
              "      <td>-35532066.33</td>\n",
              "    </tr>\n",
              "    <tr>\n",
              "      <th>20669</th>\n",
              "      <td>45000000</td>\n",
              "      <td>10657528.40</td>\n",
              "      <td>-34342471.60</td>\n",
              "    </tr>\n",
              "    <tr>\n",
              "      <th>81660</th>\n",
              "      <td>37000000</td>\n",
              "      <td>4519589.04</td>\n",
              "      <td>-32480410.96</td>\n",
              "    </tr>\n",
              "    <tr>\n",
              "      <th>11490</th>\n",
              "      <td>40000000</td>\n",
              "      <td>10890340.20</td>\n",
              "      <td>-29109659.80</td>\n",
              "    </tr>\n",
              "    <tr>\n",
              "      <th>11718</th>\n",
              "      <td>33000000</td>\n",
              "      <td>5472645.87</td>\n",
              "      <td>-27527354.13</td>\n",
              "    </tr>\n",
              "    <tr>\n",
              "      <th>...</th>\n",
              "      <td>...</td>\n",
              "      <td>...</td>\n",
              "      <td>...</td>\n",
              "    </tr>\n",
              "    <tr>\n",
              "      <th>27610</th>\n",
              "      <td>2900000</td>\n",
              "      <td>33756947.52</td>\n",
              "      <td>30856947.52</td>\n",
              "    </tr>\n",
              "    <tr>\n",
              "      <th>55007</th>\n",
              "      <td>3900000</td>\n",
              "      <td>37106261.77</td>\n",
              "      <td>33206261.77</td>\n",
              "    </tr>\n",
              "    <tr>\n",
              "      <th>49421</th>\n",
              "      <td>3000000</td>\n",
              "      <td>36554010.91</td>\n",
              "      <td>33554010.91</td>\n",
              "    </tr>\n",
              "    <tr>\n",
              "      <th>61447</th>\n",
              "      <td>3700</td>\n",
              "      <td>33945408.24</td>\n",
              "      <td>33941708.24</td>\n",
              "    </tr>\n",
              "    <tr>\n",
              "      <th>59624</th>\n",
              "      <td>4800000</td>\n",
              "      <td>40759968.39</td>\n",
              "      <td>35959968.39</td>\n",
              "    </tr>\n",
              "  </tbody>\n",
              "</table>\n",
              "<p>21635 rows × 3 columns</p>\n",
              "</div>\n",
              "      <button class=\"colab-df-convert\" onclick=\"convertToInteractive('df-7684c093-3196-444e-b68f-f02bdf9e563e')\"\n",
              "              title=\"Convert this dataframe to an interactive table.\"\n",
              "              style=\"display:none;\">\n",
              "        \n",
              "  <svg xmlns=\"http://www.w3.org/2000/svg\" height=\"24px\"viewBox=\"0 0 24 24\"\n",
              "       width=\"24px\">\n",
              "    <path d=\"M0 0h24v24H0V0z\" fill=\"none\"/>\n",
              "    <path d=\"M18.56 5.44l.94 2.06.94-2.06 2.06-.94-2.06-.94-.94-2.06-.94 2.06-2.06.94zm-11 1L8.5 8.5l.94-2.06 2.06-.94-2.06-.94L8.5 2.5l-.94 2.06-2.06.94zm10 10l.94 2.06.94-2.06 2.06-.94-2.06-.94-.94-2.06-.94 2.06-2.06.94z\"/><path d=\"M17.41 7.96l-1.37-1.37c-.4-.4-.92-.59-1.43-.59-.52 0-1.04.2-1.43.59L10.3 9.45l-7.72 7.72c-.78.78-.78 2.05 0 2.83L4 21.41c.39.39.9.59 1.41.59.51 0 1.02-.2 1.41-.59l7.78-7.78 2.81-2.81c.8-.78.8-2.07 0-2.86zM5.41 20L4 18.59l7.72-7.72 1.47 1.35L5.41 20z\"/>\n",
              "  </svg>\n",
              "      </button>\n",
              "      \n",
              "  <style>\n",
              "    .colab-df-container {\n",
              "      display:flex;\n",
              "      flex-wrap:wrap;\n",
              "      gap: 12px;\n",
              "    }\n",
              "\n",
              "    .colab-df-convert {\n",
              "      background-color: #E8F0FE;\n",
              "      border: none;\n",
              "      border-radius: 50%;\n",
              "      cursor: pointer;\n",
              "      display: none;\n",
              "      fill: #1967D2;\n",
              "      height: 32px;\n",
              "      padding: 0 0 0 0;\n",
              "      width: 32px;\n",
              "    }\n",
              "\n",
              "    .colab-df-convert:hover {\n",
              "      background-color: #E2EBFA;\n",
              "      box-shadow: 0px 1px 2px rgba(60, 64, 67, 0.3), 0px 1px 3px 1px rgba(60, 64, 67, 0.15);\n",
              "      fill: #174EA6;\n",
              "    }\n",
              "\n",
              "    [theme=dark] .colab-df-convert {\n",
              "      background-color: #3B4455;\n",
              "      fill: #D2E3FC;\n",
              "    }\n",
              "\n",
              "    [theme=dark] .colab-df-convert:hover {\n",
              "      background-color: #434B5C;\n",
              "      box-shadow: 0px 1px 3px 1px rgba(0, 0, 0, 0.15);\n",
              "      filter: drop-shadow(0px 1px 2px rgba(0, 0, 0, 0.3));\n",
              "      fill: #FFFFFF;\n",
              "    }\n",
              "  </style>\n",
              "\n",
              "      <script>\n",
              "        const buttonEl =\n",
              "          document.querySelector('#df-7684c093-3196-444e-b68f-f02bdf9e563e button.colab-df-convert');\n",
              "        buttonEl.style.display =\n",
              "          google.colab.kernel.accessAllowed ? 'block' : 'none';\n",
              "\n",
              "        async function convertToInteractive(key) {\n",
              "          const element = document.querySelector('#df-7684c093-3196-444e-b68f-f02bdf9e563e');\n",
              "          const dataTable =\n",
              "            await google.colab.kernel.invokeFunction('convertToInteractive',\n",
              "                                                     [key], {});\n",
              "          if (!dataTable) return;\n",
              "\n",
              "          const docLinkHtml = 'Like what you see? Visit the ' +\n",
              "            '<a target=\"_blank\" href=https://colab.research.google.com/notebooks/data_table.ipynb>data table notebook</a>'\n",
              "            + ' to learn more about interactive tables.';\n",
              "          element.innerHTML = '';\n",
              "          dataTable['output_type'] = 'display_data';\n",
              "          await google.colab.output.renderOutput(dataTable, element);\n",
              "          const docLink = document.createElement('div');\n",
              "          docLink.innerHTML = docLinkHtml;\n",
              "          element.appendChild(docLink);\n",
              "        }\n",
              "      </script>\n",
              "    </div>\n",
              "  </div>\n",
              "  "
            ]
          },
          "metadata": {},
          "execution_count": 82
        }
      ]
    },
    {
      "cell_type": "code",
      "source": [
        "plt.hist(actual_pred_df_test[\"差額\"], bins=100, label=\"差額\")\n",
        "plt.legend()\n",
        "plt.show()"
      ],
      "metadata": {
        "colab": {
          "base_uri": "https://localhost:8080/",
          "height": 276
        },
        "id": "BrXmunELekWx",
        "outputId": "d98d2666-1d9a-4970-bc9d-ed69d58dd5d6"
      },
      "execution_count": null,
      "outputs": [
        {
          "output_type": "display_data",
          "data": {
            "text/plain": [
              "<Figure size 432x288 with 1 Axes>"
            ],
            "image/png": "[encoded data removed]"
          },
          "metadata": {
            "needs_background": "light"
          }
        }
      ]
    }
  ],
  "metadata": {
    "colab": {
      "provenance": []
    },
    "kernelspec": {
      "display_name": "Python 3",
      "name": "python3"
    },
    "language_info": {
      "name": "python"
    }
  },
  "nbformat": 4,
  "nbformat_minor": 0
}